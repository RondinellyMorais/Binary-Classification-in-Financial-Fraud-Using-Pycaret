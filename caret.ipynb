{
 "cells": [
  {
   "cell_type": "markdown",
   "metadata": {},
   "source": [
    "#  <span style=\"color:blue\">Binary Classification in Financial Fraud Using Pycaret</span>"
   ]
  },
  {
   "cell_type": "markdown",
   "metadata": {},
   "source": [
    "![oi](pycaret.png)"
   ]
  },
  {
   "cell_type": "markdown",
   "metadata": {},
   "source": [
    "### O pycaret é uma ferramente de auto-machine learning escrita em python que premite automatizar muitos processo de preparação dos dados. Essa biblioteca foi inspirada no pacote caret da linguagem R. O principal objetivo do pycaret é reduzir o tempo de ciclo da etapa de hipótese até os insights, reduzindo o almentando consideravelmente a produtividade."
   ]
  },
  {
   "cell_type": "markdown",
   "metadata": {},
   "source": [
    "### O problema que trataremos é um típico problema de classificação binária. Temos um dataset condendo dados sobre transações financeiras feitas por clientes atráves de vários servisos bancários. O objetivo é prever a ocorrencia de transações fraudulentas usando modelos de machine learning. O dataset é composto de 7 colunas com valores númericos e uma coluna categórica contendo as duas classes que quermos prever. "
   ]
  },
  {
   "cell_type": "markdown",
   "metadata": {},
   "source": [
    "### A classificação binária é um típo de técnica de machine learning supervisionada para prever a distribuição entre duas classes discretas distintas. Com relação ao nosso problema em particular temos duas classes: uma representa um transação legitima e uma outra que representa uma tranasação fraudulenta. Aplicaremos os recursos do pycaret para tratarmos os dados passando todas as etapas necessárias, desde o tratamento de missing values até a normalização dos valores."
   ]
  },
  {
   "cell_type": "markdown",
   "metadata": {},
   "source": [
    "# 1 Getting the Data"
   ]
  },
  {
   "cell_type": "code",
   "execution_count": 37,
   "metadata": {},
   "outputs": [],
   "source": [
    "from pycaret.classification import * # Importando o classificador binário do pycaret\n",
    "import pandas as pd "
   ]
  },
  {
   "cell_type": "code",
   "execution_count": 38,
   "metadata": {},
   "outputs": [],
   "source": [
    "# Load dataset\n",
    "data = pd.read_csv('Fraud-Small.csv')"
   ]
  },
  {
   "cell_type": "code",
   "execution_count": 39,
   "metadata": {},
   "outputs": [
    {
     "data": {
      "text/html": [
       "<div>\n",
       "<style scoped>\n",
       "    .dataframe tbody tr th:only-of-type {\n",
       "        vertical-align: middle;\n",
       "    }\n",
       "\n",
       "    .dataframe tbody tr th {\n",
       "        vertical-align: top;\n",
       "    }\n",
       "\n",
       "    .dataframe thead th {\n",
       "        text-align: right;\n",
       "    }\n",
       "</style>\n",
       "<table border=\"1\" class=\"dataframe\">\n",
       "  <thead>\n",
       "    <tr style=\"text-align: right;\">\n",
       "      <th></th>\n",
       "      <th>isFraud</th>\n",
       "      <th>step</th>\n",
       "      <th>type</th>\n",
       "      <th>amount</th>\n",
       "      <th>oldbalanceOrg</th>\n",
       "      <th>newbalanceOrig</th>\n",
       "      <th>oldbalanceDest</th>\n",
       "      <th>newbalanceDest</th>\n",
       "    </tr>\n",
       "  </thead>\n",
       "  <tbody>\n",
       "    <tr>\n",
       "      <th>0</th>\n",
       "      <td>0</td>\n",
       "      <td>307</td>\n",
       "      <td>CASH_OUT</td>\n",
       "      <td>212504.03</td>\n",
       "      <td>0.00</td>\n",
       "      <td>0.00</td>\n",
       "      <td>326501.68</td>\n",
       "      <td>426742.65</td>\n",
       "    </tr>\n",
       "    <tr>\n",
       "      <th>1</th>\n",
       "      <td>0</td>\n",
       "      <td>394</td>\n",
       "      <td>CASH_OUT</td>\n",
       "      <td>143744.10</td>\n",
       "      <td>0.00</td>\n",
       "      <td>0.00</td>\n",
       "      <td>3644294.29</td>\n",
       "      <td>3788038.38</td>\n",
       "    </tr>\n",
       "    <tr>\n",
       "      <th>2</th>\n",
       "      <td>0</td>\n",
       "      <td>252</td>\n",
       "      <td>PAYMENT</td>\n",
       "      <td>52064.37</td>\n",
       "      <td>99568.00</td>\n",
       "      <td>47503.63</td>\n",
       "      <td>0.00</td>\n",
       "      <td>0.00</td>\n",
       "    </tr>\n",
       "    <tr>\n",
       "      <th>3</th>\n",
       "      <td>0</td>\n",
       "      <td>216</td>\n",
       "      <td>TRANSFER</td>\n",
       "      <td>77126.57</td>\n",
       "      <td>52708.00</td>\n",
       "      <td>0.00</td>\n",
       "      <td>0.00</td>\n",
       "      <td>77126.57</td>\n",
       "    </tr>\n",
       "    <tr>\n",
       "      <th>4</th>\n",
       "      <td>0</td>\n",
       "      <td>383</td>\n",
       "      <td>CASH_IN</td>\n",
       "      <td>196743.11</td>\n",
       "      <td>8509860.63</td>\n",
       "      <td>8706603.74</td>\n",
       "      <td>1108403.13</td>\n",
       "      <td>911660.02</td>\n",
       "    </tr>\n",
       "  </tbody>\n",
       "</table>\n",
       "</div>"
      ],
      "text/plain": [
       "   isFraud  step      type     amount  oldbalanceOrg  newbalanceOrig  \\\n",
       "0        0   307  CASH_OUT  212504.03           0.00            0.00   \n",
       "1        0   394  CASH_OUT  143744.10           0.00            0.00   \n",
       "2        0   252   PAYMENT   52064.37       99568.00        47503.63   \n",
       "3        0   216  TRANSFER   77126.57       52708.00            0.00   \n",
       "4        0   383   CASH_IN  196743.11     8509860.63      8706603.74   \n",
       "\n",
       "   oldbalanceDest  newbalanceDest  \n",
       "0       326501.68       426742.65  \n",
       "1      3644294.29      3788038.38  \n",
       "2            0.00            0.00  \n",
       "3            0.00        77126.57  \n",
       "4      1108403.13       911660.02  "
      ]
     },
     "execution_count": 39,
     "metadata": {},
     "output_type": "execute_result"
    }
   ],
   "source": [
    "# Exibindo os dados\n",
    "data.head()"
   ]
  },
  {
   "cell_type": "code",
   "execution_count": 40,
   "metadata": {},
   "outputs": [
    {
     "data": {
      "text/plain": [
       "(16426, 8)"
      ]
     },
     "execution_count": 40,
     "metadata": {},
     "output_type": "execute_result"
    }
   ],
   "source": [
    "# Exibindo as dimensões do dataset\n",
    "data.shape"
   ]
  },
  {
   "cell_type": "markdown",
   "metadata": {},
   "source": [
    "# 2 Setting up Environment in PyCaret"
   ]
  },
  {
   "cell_type": "markdown",
   "metadata": {},
   "source": [
    "### De modo semelhante ao que fazemos quando treinamos algum modelo de machine learning qualquer, rezevamos um parte dos dados para testar o podemos de prevsião do modelo. Com o pycaret também rezevamos uma fração dos dados totais para serem usandos adiante na função `predict_model()`. Contudo essa ação é um pouco diferente do clássico train test split, aqui buscamos uma cituação bem mais próxima da realidade com pycaret."
   ]
  },
  {
   "cell_type": "code",
   "execution_count": 41,
   "metadata": {},
   "outputs": [
    {
     "name": "stdout",
     "output_type": "stream",
     "text": [
      "Data for Modeling: (15605, 8)\n",
      "Unseen Data For Predictions: (821, 8)\n"
     ]
    }
   ],
   "source": [
    "# Definindo o tamanho da amostra que será usada como teste do modelo\n",
    "df = data.sample(frac=0.95, random_state=786)\n",
    "df_unseen = data.drop(df.index)\n",
    "df.reset_index(inplace=True, drop=True)\n",
    "df_unseen.reset_index(inplace=True, drop=True)\n",
    "print('Data for Modeling: ' + str(df.shape))\n",
    "print('Unseen Data For Predictions: ' + str(df_unseen.shape))"
   ]
  },
  {
   "cell_type": "markdown",
   "metadata": {},
   "source": [
    "### Obtemos uma amostra com 821 registros"
   ]
  },
  {
   "cell_type": "code",
   "execution_count": 42,
   "metadata": {},
   "outputs": [
    {
     "data": {
      "text/html": [
       "<div>\n",
       "<style scoped>\n",
       "    .dataframe tbody tr th:only-of-type {\n",
       "        vertical-align: middle;\n",
       "    }\n",
       "\n",
       "    .dataframe tbody tr th {\n",
       "        vertical-align: top;\n",
       "    }\n",
       "\n",
       "    .dataframe thead th {\n",
       "        text-align: right;\n",
       "    }\n",
       "</style>\n",
       "<table border=\"1\" class=\"dataframe\">\n",
       "  <thead>\n",
       "    <tr style=\"text-align: right;\">\n",
       "      <th></th>\n",
       "      <th>isFraud</th>\n",
       "      <th>step</th>\n",
       "      <th>type</th>\n",
       "      <th>amount</th>\n",
       "      <th>oldbalanceOrg</th>\n",
       "      <th>newbalanceOrig</th>\n",
       "      <th>oldbalanceDest</th>\n",
       "      <th>newbalanceDest</th>\n",
       "    </tr>\n",
       "  </thead>\n",
       "  <tbody>\n",
       "    <tr>\n",
       "      <th>0</th>\n",
       "      <td>0</td>\n",
       "      <td>154</td>\n",
       "      <td>TRANSFER</td>\n",
       "      <td>500312.64</td>\n",
       "      <td>0.00</td>\n",
       "      <td>0.0</td>\n",
       "      <td>6908661.51</td>\n",
       "      <td>7408974.14</td>\n",
       "    </tr>\n",
       "    <tr>\n",
       "      <th>1</th>\n",
       "      <td>0</td>\n",
       "      <td>132</td>\n",
       "      <td>TRANSFER</td>\n",
       "      <td>826266.80</td>\n",
       "      <td>317547.28</td>\n",
       "      <td>0.0</td>\n",
       "      <td>6002897.54</td>\n",
       "      <td>6829164.33</td>\n",
       "    </tr>\n",
       "    <tr>\n",
       "      <th>2</th>\n",
       "      <td>0</td>\n",
       "      <td>231</td>\n",
       "      <td>PAYMENT</td>\n",
       "      <td>3725.92</td>\n",
       "      <td>0.00</td>\n",
       "      <td>0.0</td>\n",
       "      <td>0.00</td>\n",
       "      <td>0.00</td>\n",
       "    </tr>\n",
       "    <tr>\n",
       "      <th>3</th>\n",
       "      <td>0</td>\n",
       "      <td>369</td>\n",
       "      <td>PAYMENT</td>\n",
       "      <td>46657.80</td>\n",
       "      <td>0.00</td>\n",
       "      <td>0.0</td>\n",
       "      <td>0.00</td>\n",
       "      <td>0.00</td>\n",
       "    </tr>\n",
       "    <tr>\n",
       "      <th>4</th>\n",
       "      <td>0</td>\n",
       "      <td>332</td>\n",
       "      <td>CASH_OUT</td>\n",
       "      <td>244212.73</td>\n",
       "      <td>19220.18</td>\n",
       "      <td>0.0</td>\n",
       "      <td>692553.34</td>\n",
       "      <td>936766.07</td>\n",
       "    </tr>\n",
       "  </tbody>\n",
       "</table>\n",
       "</div>"
      ],
      "text/plain": [
       "   isFraud  step      type     amount  oldbalanceOrg  newbalanceOrig  \\\n",
       "0        0   154  TRANSFER  500312.64           0.00             0.0   \n",
       "1        0   132  TRANSFER  826266.80      317547.28             0.0   \n",
       "2        0   231   PAYMENT    3725.92           0.00             0.0   \n",
       "3        0   369   PAYMENT   46657.80           0.00             0.0   \n",
       "4        0   332  CASH_OUT  244212.73       19220.18             0.0   \n",
       "\n",
       "   oldbalanceDest  newbalanceDest  \n",
       "0      6908661.51      7408974.14  \n",
       "1      6002897.54      6829164.33  \n",
       "2            0.00            0.00  \n",
       "3            0.00            0.00  \n",
       "4       692553.34       936766.07  "
      ]
     },
     "execution_count": 42,
     "metadata": {},
     "output_type": "execute_result"
    }
   ],
   "source": [
    "# Dataframe contendo amostra com os dados\n",
    "df_unseen.head()"
   ]
  },
  {
   "cell_type": "markdown",
   "metadata": {},
   "source": [
    "### Agora podemos aplicar a funação `setup()` que cria uma ambiente no pycaret, onde uma pepiline de transformação dos dados necessários para aplicarmos os modelos de machine learning. `setup()` exige apenas  dois paramêtros obrigatórios: um dataframe e a definição de uma variável target, isso mostra a simplicidade do pycaret. Os demais paramêtros podem ser aplicados para costumizar a função para modelagens mais específicas.\n",
    "\n",
    "### Uma vez que iniciamos o pycaret `setup()` o algoritmo ira inferir o tipo de todas as features baseada nas propriedades dos dados. Porém, a atribuição do tipo de dados nem sempre é correta. Quando isso acontece o pycaret permite que possamos indicar o tipo correto dos dados. Atribuir os valores corretos dos tipos de dados é fundamental para que o algoritmo possa peformar corretamente o modelo. Quando o `setup()` termina a execução temos uma lista com todas as ações executas e outros tipos de ações que não foram previamente configuradas."
   ]
  },
  {
   "cell_type": "code",
   "execution_count": 43,
   "metadata": {},
   "outputs": [
    {
     "data": {
      "text/html": [
       "<style type=\"text/css\">\n",
       "#T_2de94_row29_col1, #T_2de94_row44_col1, #T_2de94_row58_col1 {\n",
       "  background-color: lightgreen;\n",
       "}\n",
       "</style>\n",
       "<table id=\"T_2de94_\">\n",
       "  <thead>\n",
       "    <tr>\n",
       "      <th class=\"blank level0\" >&nbsp;</th>\n",
       "      <th class=\"col_heading level0 col0\" >Description</th>\n",
       "      <th class=\"col_heading level0 col1\" >Value</th>\n",
       "    </tr>\n",
       "  </thead>\n",
       "  <tbody>\n",
       "    <tr>\n",
       "      <th id=\"T_2de94_level0_row0\" class=\"row_heading level0 row0\" >0</th>\n",
       "      <td id=\"T_2de94_row0_col0\" class=\"data row0 col0\" >session_id</td>\n",
       "      <td id=\"T_2de94_row0_col1\" class=\"data row0 col1\" >4886</td>\n",
       "    </tr>\n",
       "    <tr>\n",
       "      <th id=\"T_2de94_level0_row1\" class=\"row_heading level0 row1\" >1</th>\n",
       "      <td id=\"T_2de94_row1_col0\" class=\"data row1 col0\" >Target</td>\n",
       "      <td id=\"T_2de94_row1_col1\" class=\"data row1 col1\" >isFraud</td>\n",
       "    </tr>\n",
       "    <tr>\n",
       "      <th id=\"T_2de94_level0_row2\" class=\"row_heading level0 row2\" >2</th>\n",
       "      <td id=\"T_2de94_row2_col0\" class=\"data row2 col0\" >Target Type</td>\n",
       "      <td id=\"T_2de94_row2_col1\" class=\"data row2 col1\" >Binary</td>\n",
       "    </tr>\n",
       "    <tr>\n",
       "      <th id=\"T_2de94_level0_row3\" class=\"row_heading level0 row3\" >3</th>\n",
       "      <td id=\"T_2de94_row3_col0\" class=\"data row3 col0\" >Label Encoded</td>\n",
       "      <td id=\"T_2de94_row3_col1\" class=\"data row3 col1\" >None</td>\n",
       "    </tr>\n",
       "    <tr>\n",
       "      <th id=\"T_2de94_level0_row4\" class=\"row_heading level0 row4\" >4</th>\n",
       "      <td id=\"T_2de94_row4_col0\" class=\"data row4 col0\" >Original Data</td>\n",
       "      <td id=\"T_2de94_row4_col1\" class=\"data row4 col1\" >(15605, 8)</td>\n",
       "    </tr>\n",
       "    <tr>\n",
       "      <th id=\"T_2de94_level0_row5\" class=\"row_heading level0 row5\" >5</th>\n",
       "      <td id=\"T_2de94_row5_col0\" class=\"data row5 col0\" >Missing Values</td>\n",
       "      <td id=\"T_2de94_row5_col1\" class=\"data row5 col1\" >False</td>\n",
       "    </tr>\n",
       "    <tr>\n",
       "      <th id=\"T_2de94_level0_row6\" class=\"row_heading level0 row6\" >6</th>\n",
       "      <td id=\"T_2de94_row6_col0\" class=\"data row6 col0\" >Numeric Features</td>\n",
       "      <td id=\"T_2de94_row6_col1\" class=\"data row6 col1\" >6</td>\n",
       "    </tr>\n",
       "    <tr>\n",
       "      <th id=\"T_2de94_level0_row7\" class=\"row_heading level0 row7\" >7</th>\n",
       "      <td id=\"T_2de94_row7_col0\" class=\"data row7 col0\" >Categorical Features</td>\n",
       "      <td id=\"T_2de94_row7_col1\" class=\"data row7 col1\" >1</td>\n",
       "    </tr>\n",
       "    <tr>\n",
       "      <th id=\"T_2de94_level0_row8\" class=\"row_heading level0 row8\" >8</th>\n",
       "      <td id=\"T_2de94_row8_col0\" class=\"data row8 col0\" >Ordinal Features</td>\n",
       "      <td id=\"T_2de94_row8_col1\" class=\"data row8 col1\" >False</td>\n",
       "    </tr>\n",
       "    <tr>\n",
       "      <th id=\"T_2de94_level0_row9\" class=\"row_heading level0 row9\" >9</th>\n",
       "      <td id=\"T_2de94_row9_col0\" class=\"data row9 col0\" >High Cardinality Features</td>\n",
       "      <td id=\"T_2de94_row9_col1\" class=\"data row9 col1\" >False</td>\n",
       "    </tr>\n",
       "    <tr>\n",
       "      <th id=\"T_2de94_level0_row10\" class=\"row_heading level0 row10\" >10</th>\n",
       "      <td id=\"T_2de94_row10_col0\" class=\"data row10 col0\" >High Cardinality Method</td>\n",
       "      <td id=\"T_2de94_row10_col1\" class=\"data row10 col1\" >None</td>\n",
       "    </tr>\n",
       "    <tr>\n",
       "      <th id=\"T_2de94_level0_row11\" class=\"row_heading level0 row11\" >11</th>\n",
       "      <td id=\"T_2de94_row11_col0\" class=\"data row11 col0\" >Transformed Train Set</td>\n",
       "      <td id=\"T_2de94_row11_col1\" class=\"data row11 col1\" >(10923, 11)</td>\n",
       "    </tr>\n",
       "    <tr>\n",
       "      <th id=\"T_2de94_level0_row12\" class=\"row_heading level0 row12\" >12</th>\n",
       "      <td id=\"T_2de94_row12_col0\" class=\"data row12 col0\" >Transformed Test Set</td>\n",
       "      <td id=\"T_2de94_row12_col1\" class=\"data row12 col1\" >(4682, 11)</td>\n",
       "    </tr>\n",
       "    <tr>\n",
       "      <th id=\"T_2de94_level0_row13\" class=\"row_heading level0 row13\" >13</th>\n",
       "      <td id=\"T_2de94_row13_col0\" class=\"data row13 col0\" >Shuffle Train-Test</td>\n",
       "      <td id=\"T_2de94_row13_col1\" class=\"data row13 col1\" >True</td>\n",
       "    </tr>\n",
       "    <tr>\n",
       "      <th id=\"T_2de94_level0_row14\" class=\"row_heading level0 row14\" >14</th>\n",
       "      <td id=\"T_2de94_row14_col0\" class=\"data row14 col0\" >Stratify Train-Test</td>\n",
       "      <td id=\"T_2de94_row14_col1\" class=\"data row14 col1\" >True</td>\n",
       "    </tr>\n",
       "    <tr>\n",
       "      <th id=\"T_2de94_level0_row15\" class=\"row_heading level0 row15\" >15</th>\n",
       "      <td id=\"T_2de94_row15_col0\" class=\"data row15 col0\" >Fold Generator</td>\n",
       "      <td id=\"T_2de94_row15_col1\" class=\"data row15 col1\" >StratifiedKFold</td>\n",
       "    </tr>\n",
       "    <tr>\n",
       "      <th id=\"T_2de94_level0_row16\" class=\"row_heading level0 row16\" >16</th>\n",
       "      <td id=\"T_2de94_row16_col0\" class=\"data row16 col0\" >Fold Number</td>\n",
       "      <td id=\"T_2de94_row16_col1\" class=\"data row16 col1\" >10</td>\n",
       "    </tr>\n",
       "    <tr>\n",
       "      <th id=\"T_2de94_level0_row17\" class=\"row_heading level0 row17\" >17</th>\n",
       "      <td id=\"T_2de94_row17_col0\" class=\"data row17 col0\" >CPU Jobs</td>\n",
       "      <td id=\"T_2de94_row17_col1\" class=\"data row17 col1\" >-1</td>\n",
       "    </tr>\n",
       "    <tr>\n",
       "      <th id=\"T_2de94_level0_row18\" class=\"row_heading level0 row18\" >18</th>\n",
       "      <td id=\"T_2de94_row18_col0\" class=\"data row18 col0\" >Use GPU</td>\n",
       "      <td id=\"T_2de94_row18_col1\" class=\"data row18 col1\" >False</td>\n",
       "    </tr>\n",
       "    <tr>\n",
       "      <th id=\"T_2de94_level0_row19\" class=\"row_heading level0 row19\" >19</th>\n",
       "      <td id=\"T_2de94_row19_col0\" class=\"data row19 col0\" >Log Experiment</td>\n",
       "      <td id=\"T_2de94_row19_col1\" class=\"data row19 col1\" >False</td>\n",
       "    </tr>\n",
       "    <tr>\n",
       "      <th id=\"T_2de94_level0_row20\" class=\"row_heading level0 row20\" >20</th>\n",
       "      <td id=\"T_2de94_row20_col0\" class=\"data row20 col0\" >Experiment Name</td>\n",
       "      <td id=\"T_2de94_row20_col1\" class=\"data row20 col1\" >clf-default-name</td>\n",
       "    </tr>\n",
       "    <tr>\n",
       "      <th id=\"T_2de94_level0_row21\" class=\"row_heading level0 row21\" >21</th>\n",
       "      <td id=\"T_2de94_row21_col0\" class=\"data row21 col0\" >USI</td>\n",
       "      <td id=\"T_2de94_row21_col1\" class=\"data row21 col1\" >aa6e</td>\n",
       "    </tr>\n",
       "    <tr>\n",
       "      <th id=\"T_2de94_level0_row22\" class=\"row_heading level0 row22\" >22</th>\n",
       "      <td id=\"T_2de94_row22_col0\" class=\"data row22 col0\" >Imputation Type</td>\n",
       "      <td id=\"T_2de94_row22_col1\" class=\"data row22 col1\" >simple</td>\n",
       "    </tr>\n",
       "    <tr>\n",
       "      <th id=\"T_2de94_level0_row23\" class=\"row_heading level0 row23\" >23</th>\n",
       "      <td id=\"T_2de94_row23_col0\" class=\"data row23 col0\" >Iterative Imputation Iteration</td>\n",
       "      <td id=\"T_2de94_row23_col1\" class=\"data row23 col1\" >None</td>\n",
       "    </tr>\n",
       "    <tr>\n",
       "      <th id=\"T_2de94_level0_row24\" class=\"row_heading level0 row24\" >24</th>\n",
       "      <td id=\"T_2de94_row24_col0\" class=\"data row24 col0\" >Numeric Imputer</td>\n",
       "      <td id=\"T_2de94_row24_col1\" class=\"data row24 col1\" >mean</td>\n",
       "    </tr>\n",
       "    <tr>\n",
       "      <th id=\"T_2de94_level0_row25\" class=\"row_heading level0 row25\" >25</th>\n",
       "      <td id=\"T_2de94_row25_col0\" class=\"data row25 col0\" >Iterative Imputation Numeric Model</td>\n",
       "      <td id=\"T_2de94_row25_col1\" class=\"data row25 col1\" >None</td>\n",
       "    </tr>\n",
       "    <tr>\n",
       "      <th id=\"T_2de94_level0_row26\" class=\"row_heading level0 row26\" >26</th>\n",
       "      <td id=\"T_2de94_row26_col0\" class=\"data row26 col0\" >Categorical Imputer</td>\n",
       "      <td id=\"T_2de94_row26_col1\" class=\"data row26 col1\" >constant</td>\n",
       "    </tr>\n",
       "    <tr>\n",
       "      <th id=\"T_2de94_level0_row27\" class=\"row_heading level0 row27\" >27</th>\n",
       "      <td id=\"T_2de94_row27_col0\" class=\"data row27 col0\" >Iterative Imputation Categorical Model</td>\n",
       "      <td id=\"T_2de94_row27_col1\" class=\"data row27 col1\" >None</td>\n",
       "    </tr>\n",
       "    <tr>\n",
       "      <th id=\"T_2de94_level0_row28\" class=\"row_heading level0 row28\" >28</th>\n",
       "      <td id=\"T_2de94_row28_col0\" class=\"data row28 col0\" >Unknown Categoricals Handling</td>\n",
       "      <td id=\"T_2de94_row28_col1\" class=\"data row28 col1\" >least_frequent</td>\n",
       "    </tr>\n",
       "    <tr>\n",
       "      <th id=\"T_2de94_level0_row29\" class=\"row_heading level0 row29\" >29</th>\n",
       "      <td id=\"T_2de94_row29_col0\" class=\"data row29 col0\" >Normalize</td>\n",
       "      <td id=\"T_2de94_row29_col1\" class=\"data row29 col1\" >True</td>\n",
       "    </tr>\n",
       "    <tr>\n",
       "      <th id=\"T_2de94_level0_row30\" class=\"row_heading level0 row30\" >30</th>\n",
       "      <td id=\"T_2de94_row30_col0\" class=\"data row30 col0\" >Normalize Method</td>\n",
       "      <td id=\"T_2de94_row30_col1\" class=\"data row30 col1\" >minmax</td>\n",
       "    </tr>\n",
       "    <tr>\n",
       "      <th id=\"T_2de94_level0_row31\" class=\"row_heading level0 row31\" >31</th>\n",
       "      <td id=\"T_2de94_row31_col0\" class=\"data row31 col0\" >Transformation</td>\n",
       "      <td id=\"T_2de94_row31_col1\" class=\"data row31 col1\" >False</td>\n",
       "    </tr>\n",
       "    <tr>\n",
       "      <th id=\"T_2de94_level0_row32\" class=\"row_heading level0 row32\" >32</th>\n",
       "      <td id=\"T_2de94_row32_col0\" class=\"data row32 col0\" >Transformation Method</td>\n",
       "      <td id=\"T_2de94_row32_col1\" class=\"data row32 col1\" >None</td>\n",
       "    </tr>\n",
       "    <tr>\n",
       "      <th id=\"T_2de94_level0_row33\" class=\"row_heading level0 row33\" >33</th>\n",
       "      <td id=\"T_2de94_row33_col0\" class=\"data row33 col0\" >PCA</td>\n",
       "      <td id=\"T_2de94_row33_col1\" class=\"data row33 col1\" >False</td>\n",
       "    </tr>\n",
       "    <tr>\n",
       "      <th id=\"T_2de94_level0_row34\" class=\"row_heading level0 row34\" >34</th>\n",
       "      <td id=\"T_2de94_row34_col0\" class=\"data row34 col0\" >PCA Method</td>\n",
       "      <td id=\"T_2de94_row34_col1\" class=\"data row34 col1\" >None</td>\n",
       "    </tr>\n",
       "    <tr>\n",
       "      <th id=\"T_2de94_level0_row35\" class=\"row_heading level0 row35\" >35</th>\n",
       "      <td id=\"T_2de94_row35_col0\" class=\"data row35 col0\" >PCA Components</td>\n",
       "      <td id=\"T_2de94_row35_col1\" class=\"data row35 col1\" >None</td>\n",
       "    </tr>\n",
       "    <tr>\n",
       "      <th id=\"T_2de94_level0_row36\" class=\"row_heading level0 row36\" >36</th>\n",
       "      <td id=\"T_2de94_row36_col0\" class=\"data row36 col0\" >Ignore Low Variance</td>\n",
       "      <td id=\"T_2de94_row36_col1\" class=\"data row36 col1\" >False</td>\n",
       "    </tr>\n",
       "    <tr>\n",
       "      <th id=\"T_2de94_level0_row37\" class=\"row_heading level0 row37\" >37</th>\n",
       "      <td id=\"T_2de94_row37_col0\" class=\"data row37 col0\" >Combine Rare Levels</td>\n",
       "      <td id=\"T_2de94_row37_col1\" class=\"data row37 col1\" >False</td>\n",
       "    </tr>\n",
       "    <tr>\n",
       "      <th id=\"T_2de94_level0_row38\" class=\"row_heading level0 row38\" >38</th>\n",
       "      <td id=\"T_2de94_row38_col0\" class=\"data row38 col0\" >Rare Level Threshold</td>\n",
       "      <td id=\"T_2de94_row38_col1\" class=\"data row38 col1\" >None</td>\n",
       "    </tr>\n",
       "    <tr>\n",
       "      <th id=\"T_2de94_level0_row39\" class=\"row_heading level0 row39\" >39</th>\n",
       "      <td id=\"T_2de94_row39_col0\" class=\"data row39 col0\" >Numeric Binning</td>\n",
       "      <td id=\"T_2de94_row39_col1\" class=\"data row39 col1\" >False</td>\n",
       "    </tr>\n",
       "    <tr>\n",
       "      <th id=\"T_2de94_level0_row40\" class=\"row_heading level0 row40\" >40</th>\n",
       "      <td id=\"T_2de94_row40_col0\" class=\"data row40 col0\" >Remove Outliers</td>\n",
       "      <td id=\"T_2de94_row40_col1\" class=\"data row40 col1\" >False</td>\n",
       "    </tr>\n",
       "    <tr>\n",
       "      <th id=\"T_2de94_level0_row41\" class=\"row_heading level0 row41\" >41</th>\n",
       "      <td id=\"T_2de94_row41_col0\" class=\"data row41 col0\" >Outliers Threshold</td>\n",
       "      <td id=\"T_2de94_row41_col1\" class=\"data row41 col1\" >None</td>\n",
       "    </tr>\n",
       "    <tr>\n",
       "      <th id=\"T_2de94_level0_row42\" class=\"row_heading level0 row42\" >42</th>\n",
       "      <td id=\"T_2de94_row42_col0\" class=\"data row42 col0\" >Remove Multicollinearity</td>\n",
       "      <td id=\"T_2de94_row42_col1\" class=\"data row42 col1\" >False</td>\n",
       "    </tr>\n",
       "    <tr>\n",
       "      <th id=\"T_2de94_level0_row43\" class=\"row_heading level0 row43\" >43</th>\n",
       "      <td id=\"T_2de94_row43_col0\" class=\"data row43 col0\" >Multicollinearity Threshold</td>\n",
       "      <td id=\"T_2de94_row43_col1\" class=\"data row43 col1\" >None</td>\n",
       "    </tr>\n",
       "    <tr>\n",
       "      <th id=\"T_2de94_level0_row44\" class=\"row_heading level0 row44\" >44</th>\n",
       "      <td id=\"T_2de94_row44_col0\" class=\"data row44 col0\" >Remove Perfect Collinearity</td>\n",
       "      <td id=\"T_2de94_row44_col1\" class=\"data row44 col1\" >True</td>\n",
       "    </tr>\n",
       "    <tr>\n",
       "      <th id=\"T_2de94_level0_row45\" class=\"row_heading level0 row45\" >45</th>\n",
       "      <td id=\"T_2de94_row45_col0\" class=\"data row45 col0\" >Clustering</td>\n",
       "      <td id=\"T_2de94_row45_col1\" class=\"data row45 col1\" >False</td>\n",
       "    </tr>\n",
       "    <tr>\n",
       "      <th id=\"T_2de94_level0_row46\" class=\"row_heading level0 row46\" >46</th>\n",
       "      <td id=\"T_2de94_row46_col0\" class=\"data row46 col0\" >Clustering Iteration</td>\n",
       "      <td id=\"T_2de94_row46_col1\" class=\"data row46 col1\" >None</td>\n",
       "    </tr>\n",
       "    <tr>\n",
       "      <th id=\"T_2de94_level0_row47\" class=\"row_heading level0 row47\" >47</th>\n",
       "      <td id=\"T_2de94_row47_col0\" class=\"data row47 col0\" >Polynomial Features</td>\n",
       "      <td id=\"T_2de94_row47_col1\" class=\"data row47 col1\" >False</td>\n",
       "    </tr>\n",
       "    <tr>\n",
       "      <th id=\"T_2de94_level0_row48\" class=\"row_heading level0 row48\" >48</th>\n",
       "      <td id=\"T_2de94_row48_col0\" class=\"data row48 col0\" >Polynomial Degree</td>\n",
       "      <td id=\"T_2de94_row48_col1\" class=\"data row48 col1\" >None</td>\n",
       "    </tr>\n",
       "    <tr>\n",
       "      <th id=\"T_2de94_level0_row49\" class=\"row_heading level0 row49\" >49</th>\n",
       "      <td id=\"T_2de94_row49_col0\" class=\"data row49 col0\" >Trignometry Features</td>\n",
       "      <td id=\"T_2de94_row49_col1\" class=\"data row49 col1\" >False</td>\n",
       "    </tr>\n",
       "    <tr>\n",
       "      <th id=\"T_2de94_level0_row50\" class=\"row_heading level0 row50\" >50</th>\n",
       "      <td id=\"T_2de94_row50_col0\" class=\"data row50 col0\" >Polynomial Threshold</td>\n",
       "      <td id=\"T_2de94_row50_col1\" class=\"data row50 col1\" >None</td>\n",
       "    </tr>\n",
       "    <tr>\n",
       "      <th id=\"T_2de94_level0_row51\" class=\"row_heading level0 row51\" >51</th>\n",
       "      <td id=\"T_2de94_row51_col0\" class=\"data row51 col0\" >Group Features</td>\n",
       "      <td id=\"T_2de94_row51_col1\" class=\"data row51 col1\" >False</td>\n",
       "    </tr>\n",
       "    <tr>\n",
       "      <th id=\"T_2de94_level0_row52\" class=\"row_heading level0 row52\" >52</th>\n",
       "      <td id=\"T_2de94_row52_col0\" class=\"data row52 col0\" >Feature Selection</td>\n",
       "      <td id=\"T_2de94_row52_col1\" class=\"data row52 col1\" >False</td>\n",
       "    </tr>\n",
       "    <tr>\n",
       "      <th id=\"T_2de94_level0_row53\" class=\"row_heading level0 row53\" >53</th>\n",
       "      <td id=\"T_2de94_row53_col0\" class=\"data row53 col0\" >Feature Selection Method</td>\n",
       "      <td id=\"T_2de94_row53_col1\" class=\"data row53 col1\" >classic</td>\n",
       "    </tr>\n",
       "    <tr>\n",
       "      <th id=\"T_2de94_level0_row54\" class=\"row_heading level0 row54\" >54</th>\n",
       "      <td id=\"T_2de94_row54_col0\" class=\"data row54 col0\" >Features Selection Threshold</td>\n",
       "      <td id=\"T_2de94_row54_col1\" class=\"data row54 col1\" >None</td>\n",
       "    </tr>\n",
       "    <tr>\n",
       "      <th id=\"T_2de94_level0_row55\" class=\"row_heading level0 row55\" >55</th>\n",
       "      <td id=\"T_2de94_row55_col0\" class=\"data row55 col0\" >Feature Interaction</td>\n",
       "      <td id=\"T_2de94_row55_col1\" class=\"data row55 col1\" >False</td>\n",
       "    </tr>\n",
       "    <tr>\n",
       "      <th id=\"T_2de94_level0_row56\" class=\"row_heading level0 row56\" >56</th>\n",
       "      <td id=\"T_2de94_row56_col0\" class=\"data row56 col0\" >Feature Ratio</td>\n",
       "      <td id=\"T_2de94_row56_col1\" class=\"data row56 col1\" >False</td>\n",
       "    </tr>\n",
       "    <tr>\n",
       "      <th id=\"T_2de94_level0_row57\" class=\"row_heading level0 row57\" >57</th>\n",
       "      <td id=\"T_2de94_row57_col0\" class=\"data row57 col0\" >Interaction Threshold</td>\n",
       "      <td id=\"T_2de94_row57_col1\" class=\"data row57 col1\" >None</td>\n",
       "    </tr>\n",
       "    <tr>\n",
       "      <th id=\"T_2de94_level0_row58\" class=\"row_heading level0 row58\" >58</th>\n",
       "      <td id=\"T_2de94_row58_col0\" class=\"data row58 col0\" >Fix Imbalance</td>\n",
       "      <td id=\"T_2de94_row58_col1\" class=\"data row58 col1\" >True</td>\n",
       "    </tr>\n",
       "    <tr>\n",
       "      <th id=\"T_2de94_level0_row59\" class=\"row_heading level0 row59\" >59</th>\n",
       "      <td id=\"T_2de94_row59_col0\" class=\"data row59 col0\" >Fix Imbalance Method</td>\n",
       "      <td id=\"T_2de94_row59_col1\" class=\"data row59 col1\" >SMOTE</td>\n",
       "    </tr>\n",
       "  </tbody>\n",
       "</table>\n"
      ],
      "text/plain": [
       "<pandas.io.formats.style.Styler at 0x26f7ccd7a00>"
      ]
     },
     "metadata": {},
     "output_type": "display_data"
    }
   ],
   "source": [
    "# Definimos as features que queremos inserir na modelagem e feature target. Vemos que estamos em adicional pedindo que o\n",
    "# pycaret normalize os dados usando o método minmax scale.\n",
    "s = setup(df[[\"isFraud\", \"type\", \"step\", \"amount\", \"oldbalanceOrg\", \"newbalanceOrig\", \"oldbalanceDest\", \"newbalanceDest\"]]\n",
    ",target = \"isFraud\"\n",
    ",normalize = True\n",
    ",normalize_method = \"minmax\"\n",
    ",data_split_stratify = True\n",
    ",fix_imbalance = True,\n",
    ")"
   ]
  },
  {
   "cell_type": "markdown",
   "metadata": {},
   "source": [
    "###  O pepiline `setup()` devolve uma grande quantidade de funções e informações gerais sobre o processamento de dados. Vamos descrever algumas dasmais relevantes.\n",
    "### - **session_id :** A pseudo-random number distributed as a seed in all functions for later reproducibility. If no `session_id` is passed, a random number is automatically generated that is distributed to all functions. In this experiment, the `session_id` is set as `123` for later reproducibility.\n",
    "\n",
    "### - **Target Type :**  Binary or Multiclass. The Target type is automatically detected and shown. There is no difference in how the experiment is performed for Binary or Multiclass problems. All functionalities are identical.\n",
    "\n",
    "### - **Label Encoded :**  When the Target variable is of type string (i.e. 'Yes' or 'No') instead of 1 or 0, it automatically encodes the label into 1 and 0 and displays the mapping (0 : No, 1 : Yes) for reference. In this experiment no label encoding is required since the target variable is of type numeric.\n",
    "\n",
    "### - **Original Data :**  Displays the original shape of the dataset. In this experiment (15605, 8) means 15605 samples and 8 features including the target column.\n",
    "\n",
    "### - **Missing Values :**  When there are missing values in the original data this will show as True. For this experiment there are no missing values in the dataset. \n",
    "\n",
    "### - **Categorical Features :**  The number of features inferred as categorical. In this dataset, 1 out of 8 features are inferred as categorical.\n",
    "\n",
    "### - **Numeric Features :**  The number of features inferred as numeric. In this dataset, 6 out of 8 features are inferred as numeric.\n",
    "\n",
    "### - **Transformed Train Set :**  Displays the shape of the transformed training set. Notice that the original shape of (15605, 8) is transformed into (10923, 11) for the transformed train set and the number of features have increased to 11 from 8 due to categorical encoding.\n",
    "\n",
    "### - **Transformed Test Set :**  Displays the shape of the transformed test/hold-out set. There are 4682 samples in test/hold-out set. This split is based on the default value of 70/30 that can be changed using the `train_size` parameter in setup."
   ]
  },
  {
   "cell_type": "markdown",
   "metadata": {},
   "source": [
    "# 3 Comparing All Models"
   ]
  },
  {
   "cell_type": "markdown",
   "metadata": {},
   "source": [
    "### A função `compare_models()` é executada depois da função `setup()` e permite compararmos a peformance de vários modelos de machine learning. Será exibido as principais métricas como accuracy, AUC, recall, precision, F1, kappa, e MCC. O cross validation foi fixado em 5 folds para cada algoritmo. A medida que `compare_models()` evoluie, os modelos com as melhores métricas será exibido na parte superior da siada da função."
   ]
  },
  {
   "cell_type": "code",
   "execution_count": 16,
   "metadata": {},
   "outputs": [
    {
     "data": {
      "text/html": [
       "<style type=\"text/css\">\n",
       "#T_75fa8_ th {\n",
       "  text-align: left;\n",
       "}\n",
       "#T_75fa8_row0_col0, #T_75fa8_row0_col3, #T_75fa8_row1_col0, #T_75fa8_row1_col1, #T_75fa8_row1_col2, #T_75fa8_row1_col3, #T_75fa8_row1_col4, #T_75fa8_row1_col5, #T_75fa8_row1_col6, #T_75fa8_row1_col7, #T_75fa8_row2_col0, #T_75fa8_row2_col1, #T_75fa8_row2_col2, #T_75fa8_row2_col3, #T_75fa8_row2_col4, #T_75fa8_row2_col5, #T_75fa8_row2_col6, #T_75fa8_row2_col7, #T_75fa8_row3_col0, #T_75fa8_row3_col1, #T_75fa8_row3_col2, #T_75fa8_row3_col3, #T_75fa8_row3_col4, #T_75fa8_row3_col5, #T_75fa8_row3_col6, #T_75fa8_row3_col7, #T_75fa8_row4_col0, #T_75fa8_row4_col1, #T_75fa8_row4_col2, #T_75fa8_row4_col3, #T_75fa8_row4_col4, #T_75fa8_row4_col5, #T_75fa8_row4_col6, #T_75fa8_row4_col7, #T_75fa8_row5_col0, #T_75fa8_row5_col1, #T_75fa8_row5_col2, #T_75fa8_row5_col3, #T_75fa8_row5_col4, #T_75fa8_row5_col5, #T_75fa8_row5_col6, #T_75fa8_row5_col7, #T_75fa8_row6_col0, #T_75fa8_row6_col1, #T_75fa8_row6_col2, #T_75fa8_row6_col3, #T_75fa8_row6_col4, #T_75fa8_row6_col5, #T_75fa8_row6_col6, #T_75fa8_row6_col7, #T_75fa8_row7_col0, #T_75fa8_row7_col1, #T_75fa8_row7_col2, #T_75fa8_row7_col3, #T_75fa8_row7_col4, #T_75fa8_row7_col5, #T_75fa8_row7_col6, #T_75fa8_row7_col7, #T_75fa8_row8_col0, #T_75fa8_row8_col1, #T_75fa8_row8_col2, #T_75fa8_row8_col3, #T_75fa8_row8_col4, #T_75fa8_row8_col5, #T_75fa8_row8_col6, #T_75fa8_row8_col7, #T_75fa8_row9_col0, #T_75fa8_row9_col1, #T_75fa8_row9_col2, #T_75fa8_row9_col3, #T_75fa8_row9_col4, #T_75fa8_row9_col5, #T_75fa8_row9_col6, #T_75fa8_row9_col7, #T_75fa8_row10_col0, #T_75fa8_row10_col1, #T_75fa8_row10_col2, #T_75fa8_row10_col3, #T_75fa8_row10_col4, #T_75fa8_row10_col5, #T_75fa8_row10_col6, #T_75fa8_row10_col7, #T_75fa8_row11_col0, #T_75fa8_row11_col1, #T_75fa8_row11_col2, #T_75fa8_row11_col3, #T_75fa8_row11_col4, #T_75fa8_row11_col5, #T_75fa8_row11_col6, #T_75fa8_row11_col7, #T_75fa8_row12_col0, #T_75fa8_row12_col1, #T_75fa8_row12_col2, #T_75fa8_row12_col4, #T_75fa8_row12_col5, #T_75fa8_row12_col6, #T_75fa8_row12_col7 {\n",
       "  text-align: left;\n",
       "}\n",
       "#T_75fa8_row0_col1, #T_75fa8_row0_col2, #T_75fa8_row0_col4, #T_75fa8_row0_col5, #T_75fa8_row0_col6, #T_75fa8_row0_col7, #T_75fa8_row12_col3 {\n",
       "  text-align: left;\n",
       "  background-color: yellow;\n",
       "}\n",
       "#T_75fa8_row0_col8, #T_75fa8_row1_col8, #T_75fa8_row2_col8, #T_75fa8_row3_col8, #T_75fa8_row4_col8, #T_75fa8_row5_col8, #T_75fa8_row6_col8, #T_75fa8_row7_col8, #T_75fa8_row8_col8, #T_75fa8_row9_col8, #T_75fa8_row10_col8, #T_75fa8_row12_col8 {\n",
       "  text-align: left;\n",
       "  background-color: lightgrey;\n",
       "}\n",
       "#T_75fa8_row11_col8 {\n",
       "  text-align: left;\n",
       "  background-color: yellow;\n",
       "  background-color: lightgrey;\n",
       "}\n",
       "</style>\n",
       "<table id=\"T_75fa8_\">\n",
       "  <thead>\n",
       "    <tr>\n",
       "      <th class=\"blank level0\" >&nbsp;</th>\n",
       "      <th class=\"col_heading level0 col0\" >Model</th>\n",
       "      <th class=\"col_heading level0 col1\" >Accuracy</th>\n",
       "      <th class=\"col_heading level0 col2\" >AUC</th>\n",
       "      <th class=\"col_heading level0 col3\" >Recall</th>\n",
       "      <th class=\"col_heading level0 col4\" >Prec.</th>\n",
       "      <th class=\"col_heading level0 col5\" >F1</th>\n",
       "      <th class=\"col_heading level0 col6\" >Kappa</th>\n",
       "      <th class=\"col_heading level0 col7\" >MCC</th>\n",
       "      <th class=\"col_heading level0 col8\" >TT (Sec)</th>\n",
       "    </tr>\n",
       "  </thead>\n",
       "  <tbody>\n",
       "    <tr>\n",
       "      <th id=\"T_75fa8_level0_row0\" class=\"row_heading level0 row0\" >lightgbm</th>\n",
       "      <td id=\"T_75fa8_row0_col0\" class=\"data row0 col0\" >Light Gradient Boosting Machine</td>\n",
       "      <td id=\"T_75fa8_row0_col1\" class=\"data row0 col1\" >0.9935</td>\n",
       "      <td id=\"T_75fa8_row0_col2\" class=\"data row0 col2\" >0.9992</td>\n",
       "      <td id=\"T_75fa8_row0_col3\" class=\"data row0 col3\" >0.9971</td>\n",
       "      <td id=\"T_75fa8_row0_col4\" class=\"data row0 col4\" >0.9900</td>\n",
       "      <td id=\"T_75fa8_row0_col5\" class=\"data row0 col5\" >0.9935</td>\n",
       "      <td id=\"T_75fa8_row0_col6\" class=\"data row0 col6\" >0.9870</td>\n",
       "      <td id=\"T_75fa8_row0_col7\" class=\"data row0 col7\" >0.9870</td>\n",
       "      <td id=\"T_75fa8_row0_col8\" class=\"data row0 col8\" >0.1880</td>\n",
       "    </tr>\n",
       "    <tr>\n",
       "      <th id=\"T_75fa8_level0_row1\" class=\"row_heading level0 row1\" >rf</th>\n",
       "      <td id=\"T_75fa8_row1_col0\" class=\"data row1 col0\" >Random Forest Classifier</td>\n",
       "      <td id=\"T_75fa8_row1_col1\" class=\"data row1 col1\" >0.9906</td>\n",
       "      <td id=\"T_75fa8_row1_col2\" class=\"data row1 col2\" >0.9989</td>\n",
       "      <td id=\"T_75fa8_row1_col3\" class=\"data row1 col3\" >0.9952</td>\n",
       "      <td id=\"T_75fa8_row1_col4\" class=\"data row1 col4\" >0.9861</td>\n",
       "      <td id=\"T_75fa8_row1_col5\" class=\"data row1 col5\" >0.9906</td>\n",
       "      <td id=\"T_75fa8_row1_col6\" class=\"data row1 col6\" >0.9811</td>\n",
       "      <td id=\"T_75fa8_row1_col7\" class=\"data row1 col7\" >0.9812</td>\n",
       "      <td id=\"T_75fa8_row1_col8\" class=\"data row1 col8\" >0.4740</td>\n",
       "    </tr>\n",
       "    <tr>\n",
       "      <th id=\"T_75fa8_level0_row2\" class=\"row_heading level0 row2\" >et</th>\n",
       "      <td id=\"T_75fa8_row2_col0\" class=\"data row2 col0\" >Extra Trees Classifier</td>\n",
       "      <td id=\"T_75fa8_row2_col1\" class=\"data row2 col1\" >0.9853</td>\n",
       "      <td id=\"T_75fa8_row2_col2\" class=\"data row2 col2\" >0.9985</td>\n",
       "      <td id=\"T_75fa8_row2_col3\" class=\"data row2 col3\" >0.9881</td>\n",
       "      <td id=\"T_75fa8_row2_col4\" class=\"data row2 col4\" >0.9825</td>\n",
       "      <td id=\"T_75fa8_row2_col5\" class=\"data row2 col5\" >0.9853</td>\n",
       "      <td id=\"T_75fa8_row2_col6\" class=\"data row2 col6\" >0.9705</td>\n",
       "      <td id=\"T_75fa8_row2_col7\" class=\"data row2 col7\" >0.9705</td>\n",
       "      <td id=\"T_75fa8_row2_col8\" class=\"data row2 col8\" >0.3720</td>\n",
       "    </tr>\n",
       "    <tr>\n",
       "      <th id=\"T_75fa8_level0_row3\" class=\"row_heading level0 row3\" >gbc</th>\n",
       "      <td id=\"T_75fa8_row3_col0\" class=\"data row3 col0\" >Gradient Boosting Classifier</td>\n",
       "      <td id=\"T_75fa8_row3_col1\" class=\"data row3 col1\" >0.9880</td>\n",
       "      <td id=\"T_75fa8_row3_col2\" class=\"data row3 col2\" >0.9983</td>\n",
       "      <td id=\"T_75fa8_row3_col3\" class=\"data row3 col3\" >0.9951</td>\n",
       "      <td id=\"T_75fa8_row3_col4\" class=\"data row3 col4\" >0.9812</td>\n",
       "      <td id=\"T_75fa8_row3_col5\" class=\"data row3 col5\" >0.9881</td>\n",
       "      <td id=\"T_75fa8_row3_col6\" class=\"data row3 col6\" >0.9760</td>\n",
       "      <td id=\"T_75fa8_row3_col7\" class=\"data row3 col7\" >0.9761</td>\n",
       "      <td id=\"T_75fa8_row3_col8\" class=\"data row3 col8\" >0.7160</td>\n",
       "    </tr>\n",
       "    <tr>\n",
       "      <th id=\"T_75fa8_level0_row4\" class=\"row_heading level0 row4\" >ada</th>\n",
       "      <td id=\"T_75fa8_row4_col0\" class=\"data row4 col0\" >Ada Boost Classifier</td>\n",
       "      <td id=\"T_75fa8_row4_col1\" class=\"data row4 col1\" >0.9794</td>\n",
       "      <td id=\"T_75fa8_row4_col2\" class=\"data row4 col2\" >0.9971</td>\n",
       "      <td id=\"T_75fa8_row4_col3\" class=\"data row4 col3\" >0.9854</td>\n",
       "      <td id=\"T_75fa8_row4_col4\" class=\"data row4 col4\" >0.9738</td>\n",
       "      <td id=\"T_75fa8_row4_col5\" class=\"data row4 col5\" >0.9795</td>\n",
       "      <td id=\"T_75fa8_row4_col6\" class=\"data row4 col6\" >0.9588</td>\n",
       "      <td id=\"T_75fa8_row4_col7\" class=\"data row4 col7\" >0.9589</td>\n",
       "      <td id=\"T_75fa8_row4_col8\" class=\"data row4 col8\" >0.3060</td>\n",
       "    </tr>\n",
       "    <tr>\n",
       "      <th id=\"T_75fa8_level0_row5\" class=\"row_heading level0 row5\" >dt</th>\n",
       "      <td id=\"T_75fa8_row5_col0\" class=\"data row5 col0\" >Decision Tree Classifier</td>\n",
       "      <td id=\"T_75fa8_row5_col1\" class=\"data row5 col1\" >0.9881</td>\n",
       "      <td id=\"T_75fa8_row5_col2\" class=\"data row5 col2\" >0.9881</td>\n",
       "      <td id=\"T_75fa8_row5_col3\" class=\"data row5 col3\" >0.9892</td>\n",
       "      <td id=\"T_75fa8_row5_col4\" class=\"data row5 col4\" >0.9870</td>\n",
       "      <td id=\"T_75fa8_row5_col5\" class=\"data row5 col5\" >0.9881</td>\n",
       "      <td id=\"T_75fa8_row5_col6\" class=\"data row5 col6\" >0.9762</td>\n",
       "      <td id=\"T_75fa8_row5_col7\" class=\"data row5 col7\" >0.9762</td>\n",
       "      <td id=\"T_75fa8_row5_col8\" class=\"data row5 col8\" >0.1140</td>\n",
       "    </tr>\n",
       "    <tr>\n",
       "      <th id=\"T_75fa8_level0_row6\" class=\"row_heading level0 row6\" >knn</th>\n",
       "      <td id=\"T_75fa8_row6_col0\" class=\"data row6 col0\" >K Neighbors Classifier</td>\n",
       "      <td id=\"T_75fa8_row6_col1\" class=\"data row6 col1\" >0.9171</td>\n",
       "      <td id=\"T_75fa8_row6_col2\" class=\"data row6 col2\" >0.9641</td>\n",
       "      <td id=\"T_75fa8_row6_col3\" class=\"data row6 col3\" >0.9131</td>\n",
       "      <td id=\"T_75fa8_row6_col4\" class=\"data row6 col4\" >0.9206</td>\n",
       "      <td id=\"T_75fa8_row6_col5\" class=\"data row6 col5\" >0.9168</td>\n",
       "      <td id=\"T_75fa8_row6_col6\" class=\"data row6 col6\" >0.8341</td>\n",
       "      <td id=\"T_75fa8_row6_col7\" class=\"data row6 col7\" >0.8342</td>\n",
       "      <td id=\"T_75fa8_row6_col8\" class=\"data row6 col8\" >1.2420</td>\n",
       "    </tr>\n",
       "    <tr>\n",
       "      <th id=\"T_75fa8_level0_row7\" class=\"row_heading level0 row7\" >lda</th>\n",
       "      <td id=\"T_75fa8_row7_col0\" class=\"data row7 col0\" >Linear Discriminant Analysis</td>\n",
       "      <td id=\"T_75fa8_row7_col1\" class=\"data row7 col1\" >0.8720</td>\n",
       "      <td id=\"T_75fa8_row7_col2\" class=\"data row7 col2\" >0.9567</td>\n",
       "      <td id=\"T_75fa8_row7_col3\" class=\"data row7 col3\" >0.9347</td>\n",
       "      <td id=\"T_75fa8_row7_col4\" class=\"data row7 col4\" >0.8308</td>\n",
       "      <td id=\"T_75fa8_row7_col5\" class=\"data row7 col5\" >0.8797</td>\n",
       "      <td id=\"T_75fa8_row7_col6\" class=\"data row7 col6\" >0.7440</td>\n",
       "      <td id=\"T_75fa8_row7_col7\" class=\"data row7 col7\" >0.7500</td>\n",
       "      <td id=\"T_75fa8_row7_col8\" class=\"data row7 col8\" >0.0960</td>\n",
       "    </tr>\n",
       "    <tr>\n",
       "      <th id=\"T_75fa8_level0_row8\" class=\"row_heading level0 row8\" >lr</th>\n",
       "      <td id=\"T_75fa8_row8_col0\" class=\"data row8 col0\" >Logistic Regression</td>\n",
       "      <td id=\"T_75fa8_row8_col1\" class=\"data row8 col1\" >0.8308</td>\n",
       "      <td id=\"T_75fa8_row8_col2\" class=\"data row8 col2\" >0.9223</td>\n",
       "      <td id=\"T_75fa8_row8_col3\" class=\"data row8 col3\" >0.8806</td>\n",
       "      <td id=\"T_75fa8_row8_col4\" class=\"data row8 col4\" >0.8012</td>\n",
       "      <td id=\"T_75fa8_row8_col5\" class=\"data row8 col5\" >0.8390</td>\n",
       "      <td id=\"T_75fa8_row8_col6\" class=\"data row8 col6\" >0.6616</td>\n",
       "      <td id=\"T_75fa8_row8_col7\" class=\"data row8 col7\" >0.6649</td>\n",
       "      <td id=\"T_75fa8_row8_col8\" class=\"data row8 col8\" >1.6600</td>\n",
       "    </tr>\n",
       "    <tr>\n",
       "      <th id=\"T_75fa8_level0_row9\" class=\"row_heading level0 row9\" >nb</th>\n",
       "      <td id=\"T_75fa8_row9_col0\" class=\"data row9 col0\" >Naive Bayes</td>\n",
       "      <td id=\"T_75fa8_row9_col1\" class=\"data row9 col1\" >0.7843</td>\n",
       "      <td id=\"T_75fa8_row9_col2\" class=\"data row9 col2\" >0.9183</td>\n",
       "      <td id=\"T_75fa8_row9_col3\" class=\"data row9 col3\" >0.9995</td>\n",
       "      <td id=\"T_75fa8_row9_col4\" class=\"data row9 col4\" >0.6990</td>\n",
       "      <td id=\"T_75fa8_row9_col5\" class=\"data row9 col5\" >0.8227</td>\n",
       "      <td id=\"T_75fa8_row9_col6\" class=\"data row9 col6\" >0.5684</td>\n",
       "      <td id=\"T_75fa8_row9_col7\" class=\"data row9 col7\" >0.6298</td>\n",
       "      <td id=\"T_75fa8_row9_col8\" class=\"data row9 col8\" >0.1040</td>\n",
       "    </tr>\n",
       "    <tr>\n",
       "      <th id=\"T_75fa8_level0_row10\" class=\"row_heading level0 row10\" >svm</th>\n",
       "      <td id=\"T_75fa8_row10_col0\" class=\"data row10 col0\" >SVM - Linear Kernel</td>\n",
       "      <td id=\"T_75fa8_row10_col1\" class=\"data row10 col1\" >0.8431</td>\n",
       "      <td id=\"T_75fa8_row10_col2\" class=\"data row10 col2\" >0.0000</td>\n",
       "      <td id=\"T_75fa8_row10_col3\" class=\"data row10 col3\" >0.8553</td>\n",
       "      <td id=\"T_75fa8_row10_col4\" class=\"data row10 col4\" >0.8377</td>\n",
       "      <td id=\"T_75fa8_row10_col5\" class=\"data row10 col5\" >0.8453</td>\n",
       "      <td id=\"T_75fa8_row10_col6\" class=\"data row10 col6\" >0.6862</td>\n",
       "      <td id=\"T_75fa8_row10_col7\" class=\"data row10 col7\" >0.6883</td>\n",
       "      <td id=\"T_75fa8_row10_col8\" class=\"data row10 col8\" >0.1100</td>\n",
       "    </tr>\n",
       "    <tr>\n",
       "      <th id=\"T_75fa8_level0_row11\" class=\"row_heading level0 row11\" >ridge</th>\n",
       "      <td id=\"T_75fa8_row11_col0\" class=\"data row11 col0\" >Ridge Classifier</td>\n",
       "      <td id=\"T_75fa8_row11_col1\" class=\"data row11 col1\" >0.8084</td>\n",
       "      <td id=\"T_75fa8_row11_col2\" class=\"data row11 col2\" >0.0000</td>\n",
       "      <td id=\"T_75fa8_row11_col3\" class=\"data row11 col3\" >0.9166</td>\n",
       "      <td id=\"T_75fa8_row11_col4\" class=\"data row11 col4\" >0.7540</td>\n",
       "      <td id=\"T_75fa8_row11_col5\" class=\"data row11 col5\" >0.8273</td>\n",
       "      <td id=\"T_75fa8_row11_col6\" class=\"data row11 col6\" >0.6167</td>\n",
       "      <td id=\"T_75fa8_row11_col7\" class=\"data row11 col7\" >0.6318</td>\n",
       "      <td id=\"T_75fa8_row11_col8\" class=\"data row11 col8\" >0.0900</td>\n",
       "    </tr>\n",
       "    <tr>\n",
       "      <th id=\"T_75fa8_level0_row12\" class=\"row_heading level0 row12\" >qda</th>\n",
       "      <td id=\"T_75fa8_row12_col0\" class=\"data row12 col0\" >Quadratic Discriminant Analysis</td>\n",
       "      <td id=\"T_75fa8_row12_col1\" class=\"data row12 col1\" >0.5005</td>\n",
       "      <td id=\"T_75fa8_row12_col2\" class=\"data row12 col2\" >0.0000</td>\n",
       "      <td id=\"T_75fa8_row12_col3\" class=\"data row12 col3\" >1.0000</td>\n",
       "      <td id=\"T_75fa8_row12_col4\" class=\"data row12 col4\" >0.5005</td>\n",
       "      <td id=\"T_75fa8_row12_col5\" class=\"data row12 col5\" >0.6671</td>\n",
       "      <td id=\"T_75fa8_row12_col6\" class=\"data row12 col6\" >0.0000</td>\n",
       "      <td id=\"T_75fa8_row12_col7\" class=\"data row12 col7\" >0.0000</td>\n",
       "      <td id=\"T_75fa8_row12_col8\" class=\"data row12 col8\" >0.0980</td>\n",
       "    </tr>\n",
       "  </tbody>\n",
       "</table>\n"
      ],
      "text/plain": [
       "<pandas.io.formats.style.Styler at 0x26f7a4ee790>"
      ]
     },
     "metadata": {},
     "output_type": "display_data"
    }
   ],
   "source": [
    "best = compare_models(fold = 5, sort = 'AUC')"
   ]
  },
  {
   "cell_type": "markdown",
   "metadata": {},
   "source": [
    "### O modelo Light Gradient Boosting Machine foi o que apresentou as melhores métricas de avaliação. Além disso os 6 primeiros modelos apresentaram todas as métricas de avaliação com valores acima de 0.9000"
   ]
  },
  {
   "cell_type": "code",
   "execution_count": 44,
   "metadata": {},
   "outputs": [
    {
     "name": "stdout",
     "output_type": "stream",
     "text": [
      "LGBMClassifier(boosting_type='gbdt', class_weight=None, colsample_bytree=1.0,\n",
      "               importance_type='split', learning_rate=0.1, max_depth=-1,\n",
      "               min_child_samples=20, min_child_weight=0.001, min_split_gain=0.0,\n",
      "               n_estimators=100, n_jobs=-1, num_leaves=31, objective=None,\n",
      "               random_state=3504, reg_alpha=0.0, reg_lambda=0.0, silent='warn',\n",
      "               subsample=1.0, subsample_for_bin=200000, subsample_freq=0)\n"
     ]
    }
   ],
   "source": [
    "# Aqui printamos os hiperparamêtros do modelo melhor avaliado \n",
    "print(lightgbm)"
   ]
  },
  {
   "cell_type": "markdown",
   "metadata": {},
   "source": [
    "### Ainda podemos tentar melhorar ainda mais nosso modelo usando o cross valadation e obter avaliações nas métricas de validação ainda melhores."
   ]
  },
  {
   "cell_type": "code",
   "execution_count": 17,
   "metadata": {},
   "outputs": [
    {
     "data": {
      "text/html": [
       "<style type=\"text/css\">\n",
       "#T_066a8_row5_col0, #T_066a8_row5_col1, #T_066a8_row5_col2, #T_066a8_row5_col3, #T_066a8_row5_col4, #T_066a8_row5_col5, #T_066a8_row5_col6 {\n",
       "  background: yellow;\n",
       "}\n",
       "</style>\n",
       "<table id=\"T_066a8_\">\n",
       "  <thead>\n",
       "    <tr>\n",
       "      <th class=\"blank level0\" >&nbsp;</th>\n",
       "      <th class=\"col_heading level0 col0\" >Accuracy</th>\n",
       "      <th class=\"col_heading level0 col1\" >AUC</th>\n",
       "      <th class=\"col_heading level0 col2\" >Recall</th>\n",
       "      <th class=\"col_heading level0 col3\" >Prec.</th>\n",
       "      <th class=\"col_heading level0 col4\" >F1</th>\n",
       "      <th class=\"col_heading level0 col5\" >Kappa</th>\n",
       "      <th class=\"col_heading level0 col6\" >MCC</th>\n",
       "    </tr>\n",
       "  </thead>\n",
       "  <tbody>\n",
       "    <tr>\n",
       "      <th id=\"T_066a8_level0_row0\" class=\"row_heading level0 row0\" >0</th>\n",
       "      <td id=\"T_066a8_row0_col0\" class=\"data row0 col0\" >0.9927</td>\n",
       "      <td id=\"T_066a8_row0_col1\" class=\"data row0 col1\" >0.9985</td>\n",
       "      <td id=\"T_066a8_row0_col2\" class=\"data row0 col2\" >0.9954</td>\n",
       "      <td id=\"T_066a8_row0_col3\" class=\"data row0 col3\" >0.9900</td>\n",
       "      <td id=\"T_066a8_row0_col4\" class=\"data row0 col4\" >0.9927</td>\n",
       "      <td id=\"T_066a8_row0_col5\" class=\"data row0 col5\" >0.9854</td>\n",
       "      <td id=\"T_066a8_row0_col6\" class=\"data row0 col6\" >0.9854</td>\n",
       "    </tr>\n",
       "    <tr>\n",
       "      <th id=\"T_066a8_level0_row1\" class=\"row_heading level0 row1\" >1</th>\n",
       "      <td id=\"T_066a8_row1_col0\" class=\"data row1 col0\" >0.9913</td>\n",
       "      <td id=\"T_066a8_row1_col1\" class=\"data row1 col1\" >0.9990</td>\n",
       "      <td id=\"T_066a8_row1_col2\" class=\"data row1 col2\" >0.9963</td>\n",
       "      <td id=\"T_066a8_row1_col3\" class=\"data row1 col3\" >0.9864</td>\n",
       "      <td id=\"T_066a8_row1_col4\" class=\"data row1 col4\" >0.9914</td>\n",
       "      <td id=\"T_066a8_row1_col5\" class=\"data row1 col5\" >0.9826</td>\n",
       "      <td id=\"T_066a8_row1_col6\" class=\"data row1 col6\" >0.9827</td>\n",
       "    </tr>\n",
       "    <tr>\n",
       "      <th id=\"T_066a8_level0_row2\" class=\"row_heading level0 row2\" >2</th>\n",
       "      <td id=\"T_066a8_row2_col0\" class=\"data row2 col0\" >0.9950</td>\n",
       "      <td id=\"T_066a8_row2_col1\" class=\"data row2 col1\" >0.9994</td>\n",
       "      <td id=\"T_066a8_row2_col2\" class=\"data row2 col2\" >0.9982</td>\n",
       "      <td id=\"T_066a8_row2_col3\" class=\"data row2 col3\" >0.9918</td>\n",
       "      <td id=\"T_066a8_row2_col4\" class=\"data row2 col4\" >0.9950</td>\n",
       "      <td id=\"T_066a8_row2_col5\" class=\"data row2 col5\" >0.9899</td>\n",
       "      <td id=\"T_066a8_row2_col6\" class=\"data row2 col6\" >0.9900</td>\n",
       "    </tr>\n",
       "    <tr>\n",
       "      <th id=\"T_066a8_level0_row3\" class=\"row_heading level0 row3\" >3</th>\n",
       "      <td id=\"T_066a8_row3_col0\" class=\"data row3 col0\" >0.9931</td>\n",
       "      <td id=\"T_066a8_row3_col1\" class=\"data row3 col1\" >0.9999</td>\n",
       "      <td id=\"T_066a8_row3_col2\" class=\"data row3 col2\" >0.9973</td>\n",
       "      <td id=\"T_066a8_row3_col3\" class=\"data row3 col3\" >0.9891</td>\n",
       "      <td id=\"T_066a8_row3_col4\" class=\"data row3 col4\" >0.9932</td>\n",
       "      <td id=\"T_066a8_row3_col5\" class=\"data row3 col5\" >0.9863</td>\n",
       "      <td id=\"T_066a8_row3_col6\" class=\"data row3 col6\" >0.9863</td>\n",
       "    </tr>\n",
       "    <tr>\n",
       "      <th id=\"T_066a8_level0_row4\" class=\"row_heading level0 row4\" >4</th>\n",
       "      <td id=\"T_066a8_row4_col0\" class=\"data row4 col0\" >0.9954</td>\n",
       "      <td id=\"T_066a8_row4_col1\" class=\"data row4 col1\" >0.9995</td>\n",
       "      <td id=\"T_066a8_row4_col2\" class=\"data row4 col2\" >0.9982</td>\n",
       "      <td id=\"T_066a8_row4_col3\" class=\"data row4 col3\" >0.9927</td>\n",
       "      <td id=\"T_066a8_row4_col4\" class=\"data row4 col4\" >0.9954</td>\n",
       "      <td id=\"T_066a8_row4_col5\" class=\"data row4 col5\" >0.9908</td>\n",
       "      <td id=\"T_066a8_row4_col6\" class=\"data row4 col6\" >0.9909</td>\n",
       "    </tr>\n",
       "    <tr>\n",
       "      <th id=\"T_066a8_level0_row5\" class=\"row_heading level0 row5\" >Mean</th>\n",
       "      <td id=\"T_066a8_row5_col0\" class=\"data row5 col0\" >0.9935</td>\n",
       "      <td id=\"T_066a8_row5_col1\" class=\"data row5 col1\" >0.9992</td>\n",
       "      <td id=\"T_066a8_row5_col2\" class=\"data row5 col2\" >0.9971</td>\n",
       "      <td id=\"T_066a8_row5_col3\" class=\"data row5 col3\" >0.9900</td>\n",
       "      <td id=\"T_066a8_row5_col4\" class=\"data row5 col4\" >0.9935</td>\n",
       "      <td id=\"T_066a8_row5_col5\" class=\"data row5 col5\" >0.9870</td>\n",
       "      <td id=\"T_066a8_row5_col6\" class=\"data row5 col6\" >0.9870</td>\n",
       "    </tr>\n",
       "    <tr>\n",
       "      <th id=\"T_066a8_level0_row6\" class=\"row_heading level0 row6\" >SD</th>\n",
       "      <td id=\"T_066a8_row6_col0\" class=\"data row6 col0\" >0.0015</td>\n",
       "      <td id=\"T_066a8_row6_col1\" class=\"data row6 col1\" >0.0005</td>\n",
       "      <td id=\"T_066a8_row6_col2\" class=\"data row6 col2\" >0.0011</td>\n",
       "      <td id=\"T_066a8_row6_col3\" class=\"data row6 col3\" >0.0022</td>\n",
       "      <td id=\"T_066a8_row6_col4\" class=\"data row6 col4\" >0.0015</td>\n",
       "      <td id=\"T_066a8_row6_col5\" class=\"data row6 col5\" >0.0030</td>\n",
       "      <td id=\"T_066a8_row6_col6\" class=\"data row6 col6\" >0.0030</td>\n",
       "    </tr>\n",
       "  </tbody>\n",
       "</table>\n"
      ],
      "text/plain": [
       "<pandas.io.formats.style.Styler at 0x26f7a70e790>"
      ]
     },
     "metadata": {},
     "output_type": "display_data"
    }
   ],
   "source": [
    "lightgbm = create_model('lightgbm', fold = 5)"
   ]
  },
  {
   "cell_type": "markdown",
   "metadata": {},
   "source": [
    "# 4 Tune a Model"
   ]
  },
  {
   "cell_type": "markdown",
   "metadata": {},
   "source": [
    "### O próximo passo é tunar os hiperparâmetros do modelo. Os hiperparâmetros de `create_model()` por definição vem com valores padrão. A função `tune_model()` tuna automaticamente os hiperparâmetros do modelo usando a clássica técnica `Random Grid Search`. Também estamos livres para customizar os intervalos dos valores de pesquisa dos hiperparâmetros."
   ]
  },
  {
   "cell_type": "code",
   "execution_count": 18,
   "metadata": {},
   "outputs": [
    {
     "data": {
      "text/html": [
       "<style type=\"text/css\">\n",
       "#T_e8b25_row5_col0, #T_e8b25_row5_col1, #T_e8b25_row5_col2, #T_e8b25_row5_col3, #T_e8b25_row5_col4, #T_e8b25_row5_col5, #T_e8b25_row5_col6 {\n",
       "  background: yellow;\n",
       "}\n",
       "</style>\n",
       "<table id=\"T_e8b25_\">\n",
       "  <thead>\n",
       "    <tr>\n",
       "      <th class=\"blank level0\" >&nbsp;</th>\n",
       "      <th class=\"col_heading level0 col0\" >Accuracy</th>\n",
       "      <th class=\"col_heading level0 col1\" >AUC</th>\n",
       "      <th class=\"col_heading level0 col2\" >Recall</th>\n",
       "      <th class=\"col_heading level0 col3\" >Prec.</th>\n",
       "      <th class=\"col_heading level0 col4\" >F1</th>\n",
       "      <th class=\"col_heading level0 col5\" >Kappa</th>\n",
       "      <th class=\"col_heading level0 col6\" >MCC</th>\n",
       "    </tr>\n",
       "  </thead>\n",
       "  <tbody>\n",
       "    <tr>\n",
       "      <th id=\"T_e8b25_level0_row0\" class=\"row_heading level0 row0\" >0</th>\n",
       "      <td id=\"T_e8b25_row0_col0\" class=\"data row0 col0\" >0.9913</td>\n",
       "      <td id=\"T_e8b25_row0_col1\" class=\"data row0 col1\" >0.9988</td>\n",
       "      <td id=\"T_e8b25_row0_col2\" class=\"data row0 col2\" >0.9945</td>\n",
       "      <td id=\"T_e8b25_row0_col3\" class=\"data row0 col3\" >0.9882</td>\n",
       "      <td id=\"T_e8b25_row0_col4\" class=\"data row0 col4\" >0.9913</td>\n",
       "      <td id=\"T_e8b25_row0_col5\" class=\"data row0 col5\" >0.9826</td>\n",
       "      <td id=\"T_e8b25_row0_col6\" class=\"data row0 col6\" >0.9826</td>\n",
       "    </tr>\n",
       "    <tr>\n",
       "      <th id=\"T_e8b25_level0_row1\" class=\"row_heading level0 row1\" >1</th>\n",
       "      <td id=\"T_e8b25_row1_col0\" class=\"data row1 col0\" >0.9936</td>\n",
       "      <td id=\"T_e8b25_row1_col1\" class=\"data row1 col1\" >0.9993</td>\n",
       "      <td id=\"T_e8b25_row1_col2\" class=\"data row1 col2\" >0.9963</td>\n",
       "      <td id=\"T_e8b25_row1_col3\" class=\"data row1 col3\" >0.9909</td>\n",
       "      <td id=\"T_e8b25_row1_col4\" class=\"data row1 col4\" >0.9936</td>\n",
       "      <td id=\"T_e8b25_row1_col5\" class=\"data row1 col5\" >0.9872</td>\n",
       "      <td id=\"T_e8b25_row1_col6\" class=\"data row1 col6\" >0.9872</td>\n",
       "    </tr>\n",
       "    <tr>\n",
       "      <th id=\"T_e8b25_level0_row2\" class=\"row_heading level0 row2\" >2</th>\n",
       "      <td id=\"T_e8b25_row2_col0\" class=\"data row2 col0\" >0.9968</td>\n",
       "      <td id=\"T_e8b25_row2_col1\" class=\"data row2 col1\" >0.9996</td>\n",
       "      <td id=\"T_e8b25_row2_col2\" class=\"data row2 col2\" >0.9982</td>\n",
       "      <td id=\"T_e8b25_row2_col3\" class=\"data row2 col3\" >0.9954</td>\n",
       "      <td id=\"T_e8b25_row2_col4\" class=\"data row2 col4\" >0.9968</td>\n",
       "      <td id=\"T_e8b25_row2_col5\" class=\"data row2 col5\" >0.9936</td>\n",
       "      <td id=\"T_e8b25_row2_col6\" class=\"data row2 col6\" >0.9936</td>\n",
       "    </tr>\n",
       "    <tr>\n",
       "      <th id=\"T_e8b25_level0_row3\" class=\"row_heading level0 row3\" >3</th>\n",
       "      <td id=\"T_e8b25_row3_col0\" class=\"data row3 col0\" >0.9940</td>\n",
       "      <td id=\"T_e8b25_row3_col1\" class=\"data row3 col1\" >0.9998</td>\n",
       "      <td id=\"T_e8b25_row3_col2\" class=\"data row3 col2\" >0.9973</td>\n",
       "      <td id=\"T_e8b25_row3_col3\" class=\"data row3 col3\" >0.9909</td>\n",
       "      <td id=\"T_e8b25_row3_col4\" class=\"data row3 col4\" >0.9941</td>\n",
       "      <td id=\"T_e8b25_row3_col5\" class=\"data row3 col5\" >0.9881</td>\n",
       "      <td id=\"T_e8b25_row3_col6\" class=\"data row3 col6\" >0.9881</td>\n",
       "    </tr>\n",
       "    <tr>\n",
       "      <th id=\"T_e8b25_level0_row4\" class=\"row_heading level0 row4\" >4</th>\n",
       "      <td id=\"T_e8b25_row4_col0\" class=\"data row4 col0\" >0.9954</td>\n",
       "      <td id=\"T_e8b25_row4_col1\" class=\"data row4 col1\" >0.9994</td>\n",
       "      <td id=\"T_e8b25_row4_col2\" class=\"data row4 col2\" >0.9982</td>\n",
       "      <td id=\"T_e8b25_row4_col3\" class=\"data row4 col3\" >0.9927</td>\n",
       "      <td id=\"T_e8b25_row4_col4\" class=\"data row4 col4\" >0.9954</td>\n",
       "      <td id=\"T_e8b25_row4_col5\" class=\"data row4 col5\" >0.9908</td>\n",
       "      <td id=\"T_e8b25_row4_col6\" class=\"data row4 col6\" >0.9909</td>\n",
       "    </tr>\n",
       "    <tr>\n",
       "      <th id=\"T_e8b25_level0_row5\" class=\"row_heading level0 row5\" >Mean</th>\n",
       "      <td id=\"T_e8b25_row5_col0\" class=\"data row5 col0\" >0.9942</td>\n",
       "      <td id=\"T_e8b25_row5_col1\" class=\"data row5 col1\" >0.9994</td>\n",
       "      <td id=\"T_e8b25_row5_col2\" class=\"data row5 col2\" >0.9969</td>\n",
       "      <td id=\"T_e8b25_row5_col3\" class=\"data row5 col3\" >0.9916</td>\n",
       "      <td id=\"T_e8b25_row5_col4\" class=\"data row5 col4\" >0.9943</td>\n",
       "      <td id=\"T_e8b25_row5_col5\" class=\"data row5 col5\" >0.9885</td>\n",
       "      <td id=\"T_e8b25_row5_col6\" class=\"data row5 col6\" >0.9885</td>\n",
       "    </tr>\n",
       "    <tr>\n",
       "      <th id=\"T_e8b25_level0_row6\" class=\"row_heading level0 row6\" >SD</th>\n",
       "      <td id=\"T_e8b25_row6_col0\" class=\"data row6 col0\" >0.0018</td>\n",
       "      <td id=\"T_e8b25_row6_col1\" class=\"data row6 col1\" >0.0003</td>\n",
       "      <td id=\"T_e8b25_row6_col2\" class=\"data row6 col2\" >0.0014</td>\n",
       "      <td id=\"T_e8b25_row6_col3\" class=\"data row6 col3\" >0.0024</td>\n",
       "      <td id=\"T_e8b25_row6_col4\" class=\"data row6 col4\" >0.0018</td>\n",
       "      <td id=\"T_e8b25_row6_col5\" class=\"data row6 col5\" >0.0037</td>\n",
       "      <td id=\"T_e8b25_row6_col6\" class=\"data row6 col6\" >0.0037</td>\n",
       "    </tr>\n",
       "  </tbody>\n",
       "</table>\n"
      ],
      "text/plain": [
       "<pandas.io.formats.style.Styler at 0x26f7a4d8070>"
      ]
     },
     "metadata": {},
     "output_type": "display_data"
    }
   ],
   "source": [
    "tuned_lightgbm =tune_model(lightgbm\n",
    ",fold = 5\n",
    ",custom_grid = {\n",
    "   \"learning_rate\":[0.1, 0.2, 0.5]\n",
    "   ,\"num_iterations\":[100, 500, 1000]\n",
    "   ,\"min_data_in_leaf\":[10, 20, 50]\n",
    "   ,\"max_depth\":[1, 3, 9]\n",
    "}\n",
    ",optimize = 'AUC')"
   ]
  },
  {
   "cell_type": "code",
   "execution_count": 19,
   "metadata": {},
   "outputs": [
    {
     "name": "stdout",
     "output_type": "stream",
     "text": [
      "LGBMClassifier(boosting_type='gbdt', class_weight=None, colsample_bytree=1.0,\n",
      "               importance_type='split', learning_rate=0.2, max_depth=3,\n",
      "               min_child_samples=20, min_child_weight=0.001,\n",
      "               min_data_in_leaf=20, min_split_gain=0.0, n_estimators=100,\n",
      "               n_jobs=-1, num_iterations=500, num_leaves=31, objective=None,\n",
      "               random_state=3504, reg_alpha=0.0, reg_lambda=0.0, silent='warn',\n",
      "               subsample=1.0, subsample_for_bin=200000, subsample_freq=0)\n"
     ]
    }
   ],
   "source": [
    "# Printando os hiperparâmetros tunados do modelo tuned_lightgb\n",
    "print(tuned_lightgbm)"
   ]
  },
  {
   "cell_type": "code",
   "execution_count": 20,
   "metadata": {},
   "outputs": [
    {
     "data": {
      "image/png": "[encoded data removed]",
      "text/plain": [
       "<Figure size 576x396 with 1 Axes>"
      ]
     },
     "metadata": {},
     "output_type": "display_data"
    }
   ],
   "source": [
    "# plot_model para a curva ROC-AUC\n",
    "plot_model(tuned_lightgbm, plot = 'auc')"
   ]
  },
  {
   "cell_type": "markdown",
   "metadata": {},
   "source": [
    "### Vemos que o modelo tunado classifica perfeitamnete as classes dos nossos dados. Isso acontece pelo alta performance que o modelo alcansou para esse conjunto de dados, mas não podemos descartar que houve overffing. "
   ]
  },
  {
   "cell_type": "code",
   "execution_count": 22,
   "metadata": {},
   "outputs": [
    {
     "data": {
      "image/png": "[encoded data removed]",
      "text/plain": [
       "<Figure size 576x396 with 1 Axes>"
      ]
     },
     "metadata": {},
     "output_type": "display_data"
    }
   ],
   "source": [
    "# Plotando confusion matrix\n",
    "plot_model(tuned_lightgbm, plot = 'confusion_matrix')"
   ]
  },
  {
   "cell_type": "markdown",
   "metadata": {},
   "source": [
    "# 5 Predict on test/ hold-out sample"
   ]
  },
  {
   "cell_type": "markdown",
   "metadata": {},
   "source": [
    "### Agora devemos checar a evolução das métricas de avaliação usando os dodos que separamos antes de criarmos o `setup()`. Destinamos 30% dos dados originais para constituir um conjunto de dados nunca visto pelo modelo treinado `tuned_lightgbm()`."
   ]
  },
  {
   "cell_type": "code",
   "execution_count": 23,
   "metadata": {},
   "outputs": [
    {
     "data": {
      "text/html": [
       "<style type=\"text/css\">\n",
       "</style>\n",
       "<table id=\"T_4f27e_\">\n",
       "  <thead>\n",
       "    <tr>\n",
       "      <th class=\"blank level0\" >&nbsp;</th>\n",
       "      <th class=\"col_heading level0 col0\" >Model</th>\n",
       "      <th class=\"col_heading level0 col1\" >Accuracy</th>\n",
       "      <th class=\"col_heading level0 col2\" >AUC</th>\n",
       "      <th class=\"col_heading level0 col3\" >Recall</th>\n",
       "      <th class=\"col_heading level0 col4\" >Prec.</th>\n",
       "      <th class=\"col_heading level0 col5\" >F1</th>\n",
       "      <th class=\"col_heading level0 col6\" >Kappa</th>\n",
       "      <th class=\"col_heading level0 col7\" >MCC</th>\n",
       "    </tr>\n",
       "  </thead>\n",
       "  <tbody>\n",
       "    <tr>\n",
       "      <th id=\"T_4f27e_level0_row0\" class=\"row_heading level0 row0\" >0</th>\n",
       "      <td id=\"T_4f27e_row0_col0\" class=\"data row0 col0\" >Light Gradient Boosting Machine</td>\n",
       "      <td id=\"T_4f27e_row0_col1\" class=\"data row0 col1\" >0.9917</td>\n",
       "      <td id=\"T_4f27e_row0_col2\" class=\"data row0 col2\" >0.9990</td>\n",
       "      <td id=\"T_4f27e_row0_col3\" class=\"data row0 col3\" >0.9966</td>\n",
       "      <td id=\"T_4f27e_row0_col4\" class=\"data row0 col4\" >0.9869</td>\n",
       "      <td id=\"T_4f27e_row0_col5\" class=\"data row0 col5\" >0.9917</td>\n",
       "      <td id=\"T_4f27e_row0_col6\" class=\"data row0 col6\" >0.9833</td>\n",
       "      <td id=\"T_4f27e_row0_col7\" class=\"data row0 col7\" >0.9834</td>\n",
       "    </tr>\n",
       "  </tbody>\n",
       "</table>\n"
      ],
      "text/plain": [
       "<pandas.io.formats.style.Styler at 0x26f7a8d6f10>"
      ]
     },
     "metadata": {},
     "output_type": "display_data"
    }
   ],
   "source": [
    "# Visualizando as métricas de avaliação para os dados hold-out usando o modelo tuned_lightgbm.\n",
    "predict_model(tuned_lightgbm);"
   ]
  },
  {
   "cell_type": "markdown",
   "metadata": {},
   "source": [
    "### Mesmo com os dados que o modelo nunca viu, os valores das métricas de avaliação são muito bons. Mostrando que o modelo é excelente para classificar fraudes financeiras para esse conjunto de dados."
   ]
  },
  {
   "cell_type": "markdown",
   "metadata": {},
   "source": [
    "# 6 Finalize Model for Deployment"
   ]
  },
  {
   "cell_type": "markdown",
   "metadata": {},
   "source": [
    "### A parte final do nosso experimento é preparar o modelo para exportar o modelo treinado para que este possa ser utilizado em outros modelagens. A função `finalize_model()` cria um dataset do modelo treinado junto com os 30% de validação."
   ]
  },
  {
   "cell_type": "code",
   "execution_count": 24,
   "metadata": {},
   "outputs": [],
   "source": [
    "# Criando finalize_model() para o modelo treinado.\n",
    "final_lightgbm = finalize_model(tuned_lightgbm)"
   ]
  },
  {
   "cell_type": "code",
   "execution_count": 25,
   "metadata": {},
   "outputs": [
    {
     "name": "stdout",
     "output_type": "stream",
     "text": [
      "LGBMClassifier(boosting_type='gbdt', class_weight=None, colsample_bytree=1.0,\n",
      "               importance_type='split', learning_rate=0.2, max_depth=3,\n",
      "               min_child_samples=20, min_child_weight=0.001,\n",
      "               min_data_in_leaf=20, min_split_gain=0.0, n_estimators=100,\n",
      "               n_jobs=-1, num_iterations=500, num_leaves=31, objective=None,\n",
      "               random_state=3504, reg_alpha=0.0, reg_lambda=0.0, silent='warn',\n",
      "               subsample=1.0, subsample_for_bin=200000, subsample_freq=0)\n"
     ]
    }
   ],
   "source": [
    "# Plotando os hiperparâmetros do modelo finalizado\n",
    "print(final_lightgbm)"
   ]
  },
  {
   "cell_type": "code",
   "execution_count": 27,
   "metadata": {},
   "outputs": [
    {
     "data": {
      "text/html": [
       "<style type=\"text/css\">\n",
       "</style>\n",
       "<table id=\"T_32232_\">\n",
       "  <thead>\n",
       "    <tr>\n",
       "      <th class=\"blank level0\" >&nbsp;</th>\n",
       "      <th class=\"col_heading level0 col0\" >Model</th>\n",
       "      <th class=\"col_heading level0 col1\" >Accuracy</th>\n",
       "      <th class=\"col_heading level0 col2\" >AUC</th>\n",
       "      <th class=\"col_heading level0 col3\" >Recall</th>\n",
       "      <th class=\"col_heading level0 col4\" >Prec.</th>\n",
       "      <th class=\"col_heading level0 col5\" >F1</th>\n",
       "      <th class=\"col_heading level0 col6\" >Kappa</th>\n",
       "      <th class=\"col_heading level0 col7\" >MCC</th>\n",
       "    </tr>\n",
       "  </thead>\n",
       "  <tbody>\n",
       "    <tr>\n",
       "      <th id=\"T_32232_level0_row0\" class=\"row_heading level0 row0\" >0</th>\n",
       "      <td id=\"T_32232_row0_col0\" class=\"data row0 col0\" >Light Gradient Boosting Machine</td>\n",
       "      <td id=\"T_32232_row0_col1\" class=\"data row0 col1\" >1.0000</td>\n",
       "      <td id=\"T_32232_row0_col2\" class=\"data row0 col2\" >1.0000</td>\n",
       "      <td id=\"T_32232_row0_col3\" class=\"data row0 col3\" >1.0000</td>\n",
       "      <td id=\"T_32232_row0_col4\" class=\"data row0 col4\" >1.0000</td>\n",
       "      <td id=\"T_32232_row0_col5\" class=\"data row0 col5\" >1.0000</td>\n",
       "      <td id=\"T_32232_row0_col6\" class=\"data row0 col6\" >1.0000</td>\n",
       "      <td id=\"T_32232_row0_col7\" class=\"data row0 col7\" >1.0000</td>\n",
       "    </tr>\n",
       "  </tbody>\n",
       "</table>\n"
      ],
      "text/plain": [
       "<pandas.io.formats.style.Styler at 0x26f7a786640>"
      ]
     },
     "metadata": {},
     "output_type": "display_data"
    }
   ],
   "source": [
    "# testando a previsão com os dados de treino\n",
    "predict_model(final_lightgbm);"
   ]
  },
  {
   "cell_type": "markdown",
   "metadata": {},
   "source": [
    "# 7 Predict on unseen data"
   ]
  },
  {
   "cell_type": "markdown",
   "metadata": {},
   "source": [
    "### Com base no dataset dos dados ainda não vistos criamos um coluna 'label' com o valor da classe prevista e o uma coluna com o score."
   ]
  },
  {
   "cell_type": "code",
   "execution_count": 28,
   "metadata": {},
   "outputs": [
    {
     "data": {
      "text/html": [
       "<div>\n",
       "<style scoped>\n",
       "    .dataframe tbody tr th:only-of-type {\n",
       "        vertical-align: middle;\n",
       "    }\n",
       "\n",
       "    .dataframe tbody tr th {\n",
       "        vertical-align: top;\n",
       "    }\n",
       "\n",
       "    .dataframe thead th {\n",
       "        text-align: right;\n",
       "    }\n",
       "</style>\n",
       "<table border=\"1\" class=\"dataframe\">\n",
       "  <thead>\n",
       "    <tr style=\"text-align: right;\">\n",
       "      <th></th>\n",
       "      <th>isFraud</th>\n",
       "      <th>step</th>\n",
       "      <th>type</th>\n",
       "      <th>amount</th>\n",
       "      <th>oldbalanceOrg</th>\n",
       "      <th>newbalanceOrig</th>\n",
       "      <th>oldbalanceDest</th>\n",
       "      <th>newbalanceDest</th>\n",
       "      <th>Label</th>\n",
       "      <th>Score</th>\n",
       "    </tr>\n",
       "  </thead>\n",
       "  <tbody>\n",
       "    <tr>\n",
       "      <th>0</th>\n",
       "      <td>0</td>\n",
       "      <td>154</td>\n",
       "      <td>TRANSFER</td>\n",
       "      <td>500312.64</td>\n",
       "      <td>0.00</td>\n",
       "      <td>0.0</td>\n",
       "      <td>6908661.51</td>\n",
       "      <td>7408974.14</td>\n",
       "      <td>0</td>\n",
       "      <td>1.0000</td>\n",
       "    </tr>\n",
       "    <tr>\n",
       "      <th>1</th>\n",
       "      <td>0</td>\n",
       "      <td>132</td>\n",
       "      <td>TRANSFER</td>\n",
       "      <td>826266.80</td>\n",
       "      <td>317547.28</td>\n",
       "      <td>0.0</td>\n",
       "      <td>6002897.54</td>\n",
       "      <td>6829164.33</td>\n",
       "      <td>0</td>\n",
       "      <td>0.9999</td>\n",
       "    </tr>\n",
       "    <tr>\n",
       "      <th>2</th>\n",
       "      <td>0</td>\n",
       "      <td>231</td>\n",
       "      <td>PAYMENT</td>\n",
       "      <td>3725.92</td>\n",
       "      <td>0.00</td>\n",
       "      <td>0.0</td>\n",
       "      <td>0.00</td>\n",
       "      <td>0.00</td>\n",
       "      <td>0</td>\n",
       "      <td>1.0000</td>\n",
       "    </tr>\n",
       "    <tr>\n",
       "      <th>3</th>\n",
       "      <td>0</td>\n",
       "      <td>369</td>\n",
       "      <td>PAYMENT</td>\n",
       "      <td>46657.80</td>\n",
       "      <td>0.00</td>\n",
       "      <td>0.0</td>\n",
       "      <td>0.00</td>\n",
       "      <td>0.00</td>\n",
       "      <td>0</td>\n",
       "      <td>1.0000</td>\n",
       "    </tr>\n",
       "    <tr>\n",
       "      <th>4</th>\n",
       "      <td>0</td>\n",
       "      <td>332</td>\n",
       "      <td>CASH_OUT</td>\n",
       "      <td>244212.73</td>\n",
       "      <td>19220.18</td>\n",
       "      <td>0.0</td>\n",
       "      <td>692553.34</td>\n",
       "      <td>936766.07</td>\n",
       "      <td>0</td>\n",
       "      <td>1.0000</td>\n",
       "    </tr>\n",
       "  </tbody>\n",
       "</table>\n",
       "</div>"
      ],
      "text/plain": [
       "   isFraud  step      type     amount  oldbalanceOrg  newbalanceOrig  \\\n",
       "0        0   154  TRANSFER  500312.64           0.00             0.0   \n",
       "1        0   132  TRANSFER  826266.80      317547.28             0.0   \n",
       "2        0   231   PAYMENT    3725.92           0.00             0.0   \n",
       "3        0   369   PAYMENT   46657.80           0.00             0.0   \n",
       "4        0   332  CASH_OUT  244212.73       19220.18             0.0   \n",
       "\n",
       "   oldbalanceDest  newbalanceDest  Label   Score  \n",
       "0      6908661.51      7408974.14      0  1.0000  \n",
       "1      6002897.54      6829164.33      0  0.9999  \n",
       "2            0.00            0.00      0  1.0000  \n",
       "3            0.00            0.00      0  1.0000  \n",
       "4       692553.34       936766.07      0  1.0000  "
      ]
     },
     "execution_count": 28,
     "metadata": {},
     "output_type": "execute_result"
    }
   ],
   "source": [
    "# Criando um coluna com valores das classes previstas dos dados não vistos pelo modelo.\n",
    "unseen_predictions = predict_model(final_lightgbm, data=df_unseen)\n",
    "unseen_predictions.head()"
   ]
  },
  {
   "cell_type": "markdown",
   "metadata": {},
   "source": [
    "# 8 Saving the model"
   ]
  },
  {
   "cell_type": "markdown",
   "metadata": {},
   "source": [
    "### Com a função `save_model()` podemos salvar nosso modelo treinado para que possamos usar em outras situações, por exemplo quando aparece novos dados para serem classificados pelo modelo. A função `save_model()` gera uma pepiline com as etapas necessárias para salvar o modelo treinado no formato pickler. "
   ]
  },
  {
   "cell_type": "code",
   "execution_count": 29,
   "metadata": {},
   "outputs": [
    {
     "name": "stdout",
     "output_type": "stream",
     "text": [
      "Transformation Pipeline and Model Successfully Saved\n"
     ]
    },
    {
     "data": {
      "text/plain": [
       "(Pipeline(memory=None,\n",
       "          steps=[('dtypes',\n",
       "                  DataTypes_Auto_infer(categorical_features=[],\n",
       "                                       display_types=True, features_todrop=[],\n",
       "                                       id_columns=[],\n",
       "                                       ml_usecase='classification',\n",
       "                                       numerical_features=[], target='isFraud',\n",
       "                                       time_features=[])),\n",
       "                 ('imputer',\n",
       "                  Simple_Imputer(categorical_strategy='not_available',\n",
       "                                 fill_value_categorical=None,\n",
       "                                 fill_value_numerical=None,\n",
       "                                 numeric_stra...\n",
       "                                 colsample_bytree=1.0, importance_type='split',\n",
       "                                 learning_rate=0.2, max_depth=3,\n",
       "                                 min_child_samples=20, min_child_weight=0.001,\n",
       "                                 min_data_in_leaf=20, min_split_gain=0.0,\n",
       "                                 n_estimators=100, n_jobs=-1, num_iterations=500,\n",
       "                                 num_leaves=31, objective=None,\n",
       "                                 random_state=3504, reg_alpha=0.0,\n",
       "                                 reg_lambda=0.0, silent='warn', subsample=1.0,\n",
       "                                 subsample_for_bin=200000, subsample_freq=0)]],\n",
       "          verbose=False),\n",
       " 'Final Lightgbm Model .pkl')"
      ]
     },
     "execution_count": 29,
     "metadata": {},
     "output_type": "execute_result"
    }
   ],
   "source": [
    "# Salvando o modelo final_lightgbm\n",
    "save_model(final_lightgbm,'Final Lightgbm Model ')"
   ]
  },
  {
   "cell_type": "markdown",
   "metadata": {},
   "source": [
    "# 9 Loading the saved model"
   ]
  },
  {
   "cell_type": "markdown",
   "metadata": {},
   "source": [
    "### Quando recarremos o modelo salvo, mostramos que função de predição para dados novos ainda é mesma do modelo gerado antes de ser valvo. Isso garante a confiabilidade e escalabilidade dos modelo gerados pelo pycarete."
   ]
  },
  {
   "cell_type": "code",
   "execution_count": 31,
   "metadata": {},
   "outputs": [
    {
     "name": "stdout",
     "output_type": "stream",
     "text": [
      "Transformation Pipeline and Model Successfully Loaded\n"
     ]
    }
   ],
   "source": [
    "# Carregando o modelo salvo\n",
    "saved_final_lightgbm = load_model('Final Lightgbm Model ')"
   ]
  },
  {
   "cell_type": "code",
   "execution_count": 33,
   "metadata": {},
   "outputs": [],
   "source": [
    "# Criando dataset com as classes previstas com o modelo salvo \n",
    "new_prediction = predict_model(saved_final_lightgbm, data=df_unseen)"
   ]
  },
  {
   "cell_type": "code",
   "execution_count": 34,
   "metadata": {},
   "outputs": [
    {
     "data": {
      "text/html": [
       "<div>\n",
       "<style scoped>\n",
       "    .dataframe tbody tr th:only-of-type {\n",
       "        vertical-align: middle;\n",
       "    }\n",
       "\n",
       "    .dataframe tbody tr th {\n",
       "        vertical-align: top;\n",
       "    }\n",
       "\n",
       "    .dataframe thead th {\n",
       "        text-align: right;\n",
       "    }\n",
       "</style>\n",
       "<table border=\"1\" class=\"dataframe\">\n",
       "  <thead>\n",
       "    <tr style=\"text-align: right;\">\n",
       "      <th></th>\n",
       "      <th>isFraud</th>\n",
       "      <th>step</th>\n",
       "      <th>type</th>\n",
       "      <th>amount</th>\n",
       "      <th>oldbalanceOrg</th>\n",
       "      <th>newbalanceOrig</th>\n",
       "      <th>oldbalanceDest</th>\n",
       "      <th>newbalanceDest</th>\n",
       "      <th>Label</th>\n",
       "      <th>Score</th>\n",
       "    </tr>\n",
       "  </thead>\n",
       "  <tbody>\n",
       "    <tr>\n",
       "      <th>0</th>\n",
       "      <td>0</td>\n",
       "      <td>154</td>\n",
       "      <td>TRANSFER</td>\n",
       "      <td>500312.64</td>\n",
       "      <td>0.00</td>\n",
       "      <td>0.0</td>\n",
       "      <td>6908661.51</td>\n",
       "      <td>7408974.14</td>\n",
       "      <td>0</td>\n",
       "      <td>1.0000</td>\n",
       "    </tr>\n",
       "    <tr>\n",
       "      <th>1</th>\n",
       "      <td>0</td>\n",
       "      <td>132</td>\n",
       "      <td>TRANSFER</td>\n",
       "      <td>826266.80</td>\n",
       "      <td>317547.28</td>\n",
       "      <td>0.0</td>\n",
       "      <td>6002897.54</td>\n",
       "      <td>6829164.33</td>\n",
       "      <td>0</td>\n",
       "      <td>0.9999</td>\n",
       "    </tr>\n",
       "    <tr>\n",
       "      <th>2</th>\n",
       "      <td>0</td>\n",
       "      <td>231</td>\n",
       "      <td>PAYMENT</td>\n",
       "      <td>3725.92</td>\n",
       "      <td>0.00</td>\n",
       "      <td>0.0</td>\n",
       "      <td>0.00</td>\n",
       "      <td>0.00</td>\n",
       "      <td>0</td>\n",
       "      <td>1.0000</td>\n",
       "    </tr>\n",
       "    <tr>\n",
       "      <th>3</th>\n",
       "      <td>0</td>\n",
       "      <td>369</td>\n",
       "      <td>PAYMENT</td>\n",
       "      <td>46657.80</td>\n",
       "      <td>0.00</td>\n",
       "      <td>0.0</td>\n",
       "      <td>0.00</td>\n",
       "      <td>0.00</td>\n",
       "      <td>0</td>\n",
       "      <td>1.0000</td>\n",
       "    </tr>\n",
       "    <tr>\n",
       "      <th>4</th>\n",
       "      <td>0</td>\n",
       "      <td>332</td>\n",
       "      <td>CASH_OUT</td>\n",
       "      <td>244212.73</td>\n",
       "      <td>19220.18</td>\n",
       "      <td>0.0</td>\n",
       "      <td>692553.34</td>\n",
       "      <td>936766.07</td>\n",
       "      <td>0</td>\n",
       "      <td>1.0000</td>\n",
       "    </tr>\n",
       "  </tbody>\n",
       "</table>\n",
       "</div>"
      ],
      "text/plain": [
       "   isFraud  step      type     amount  oldbalanceOrg  newbalanceOrig  \\\n",
       "0        0   154  TRANSFER  500312.64           0.00             0.0   \n",
       "1        0   132  TRANSFER  826266.80      317547.28             0.0   \n",
       "2        0   231   PAYMENT    3725.92           0.00             0.0   \n",
       "3        0   369   PAYMENT   46657.80           0.00             0.0   \n",
       "4        0   332  CASH_OUT  244212.73       19220.18             0.0   \n",
       "\n",
       "   oldbalanceDest  newbalanceDest  Label   Score  \n",
       "0      6908661.51      7408974.14      0  1.0000  \n",
       "1      6002897.54      6829164.33      0  0.9999  \n",
       "2            0.00            0.00      0  1.0000  \n",
       "3            0.00            0.00      0  1.0000  \n",
       "4       692553.34       936766.07      0  1.0000  "
      ]
     },
     "execution_count": 34,
     "metadata": {},
     "output_type": "execute_result"
    }
   ],
   "source": [
    "new_prediction.head()"
   ]
  },
  {
   "cell_type": "code",
   "execution_count": 36,
   "metadata": {},
   "outputs": [
    {
     "data": {
      "text/plain": [
       "0.9951"
      ]
     },
     "execution_count": 36,
     "metadata": {},
     "output_type": "execute_result"
    }
   ],
   "source": [
    "# Mostrando a acuaracia do modelo salvo.\n",
    "from pycaret.utils import check_metric\n",
    "check_metric(new_prediction['isFraud'], new_prediction['Label'], metric = 'Accuracy')"
   ]
  },
  {
   "cell_type": "markdown",
   "metadata": {},
   "source": [
    "# 10 Conclusion"
   ]
  },
  {
   "cell_type": "markdown",
   "metadata": {},
   "source": [
    "### Demonstramos o funcionamento básico do pycaret como framework de auto machine learning. Quando aplicamos o pycaret para classificar fraudes em transações, vimos que o modelo alcansou alto desempenho na classificação. O modelo final foi salvo com seus hiperparâmetros juntamente com um dataset com dados nunca vistos pelo modelo. Na última etapa testamos a validação do modelo com os dados nunca vistos pelo modelo. O pycaret se mostrou uma poderosa feramenta para nosso proposta de classificação binária de classes."
   ]
  }
 ],
 "metadata": {
  "interpreter": {
   "hash": "05c10bced17739a206d5a97e7f58f9dc7a39657588e090e0dd889a080c9def9a"
  },
  "kernelspec": {
   "display_name": "Python 3.8.12 64-bit ('yourenvname': conda)",
   "name": "python3"
  },
  "language_info": {
   "codemirror_mode": {
    "name": "ipython",
    "version": 3
   },
   "file_extension": ".py",
   "mimetype": "text/x-python",
   "name": "python",
   "nbconvert_exporter": "python",
   "pygments_lexer": "ipython3",
   "version": "3.8.12"
  },
  "orig_nbformat": 4
 },
 "nbformat": 4,
 "nbformat_minor": 2
}
